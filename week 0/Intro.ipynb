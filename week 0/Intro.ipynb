{
 "cells": [
  {
   "cell_type": "markdown",
   "metadata": {},
   "source": [
    "print (\\*objects , sep=' ', end='\\n')\n"
   ]
  },
  {
   "cell_type": "code",
   "execution_count": 12,
   "metadata": {},
   "outputs": [
    {
     "name": "stdout",
     "output_type": "stream",
     "text": [
      "hello , hi\n"
     ]
    }
   ],
   "source": [
    "user_name = input(\"what's your name ?\") # the default return value is a string\n",
    "\n",
    "print(f\"hello , {user_name}\") # print(\"hello,\",user_name) or print(\"hello,\" + user_name)"
   ]
  },
  {
   "cell_type": "code",
   "execution_count": 13,
   "metadata": {},
   "outputs": [
    {
     "name": "stdout",
     "output_type": "stream",
     "text": [
      "hello world     no\n",
      "hello world     no this is end"
     ]
    }
   ],
   "source": [
    "print(\"hello world\",\"no\",sep=\"     \")\n",
    "print(\"hello world\",\"no\",sep=\"     \", end=' this is end')"
   ]
  },
  {
   "cell_type": "code",
   "execution_count": 14,
   "metadata": {},
   "outputs": [
    {
     "name": "stdout",
     "output_type": "stream",
     "text": [
      "hello world 'hi'\"\n"
     ]
    }
   ],
   "source": [
    "print(\"hello world \\'hi\\'\\\"\")# when we add backslash we mean the attributes of the character like \"\" it's now not end or starting for the string"
   ]
  },
  {
   "cell_type": "code",
   "execution_count": 17,
   "metadata": {},
   "outputs": [
    {
     "name": "stdout",
     "output_type": "stream",
     "text": [
      "{} hi\n"
     ]
    }
   ],
   "source": [
    "print(f\"{{}} {user_name}\")"
   ]
  },
  {
   "cell_type": "markdown",
   "metadata": {},
   "source": [
    "# String methods\n"
   ]
  },
  {
   "cell_type": "code",
   "execution_count": 36,
   "metadata": {},
   "outputs": [
    {
     "name": "stdout",
     "output_type": "stream",
     "text": [
      "Amro\n"
     ]
    }
   ],
   "source": [
    "user_name = input(\"what's your name ?\") # A method strip remove the whitespace from the string like  aaaaa      -> aaaaa\n",
    "# user_name = user_name.capitalize() # Capitalize user name but we can use title() to capitalize every first character in  a string \n",
    "user_name = user_name.strip().title() \n",
    "first,second = user_name.split(\" \")\n",
    "#print(user_name) \n",
    "print(first) # if we want to print the first when should enter at exactly two strings ex : amro eid otherwise we got an error message\n",
    "#first, second = (name.split(\" \") if (name and \" \" in name) else (name, None)) if name else (None, None)\n"
   ]
  },
  {
   "cell_type": "markdown",
   "metadata": {},
   "source": [
    "# int\n",
    "\n",
    "domain (-inf to inf ) but without decimal value only integer values\n"
   ]
  },
  {
   "cell_type": "code",
   "execution_count": 37,
   "metadata": {},
   "outputs": [
    {
     "name": "stdout",
     "output_type": "stream",
     "text": [
      "5\n"
     ]
    }
   ],
   "source": [
    "x =int(5.5)\n",
    "print(x)"
   ]
  },
  {
   "cell_type": "markdown",
   "metadata": {},
   "source": [
    "# float\n",
    "\n",
    "domain (-inf to inf ) with decimal value only integer values\n"
   ]
  },
  {
   "cell_type": "code",
   "execution_count": 38,
   "metadata": {},
   "outputs": [
    {
     "name": "stdout",
     "output_type": "stream",
     "text": [
      "5.5\n"
     ]
    }
   ],
   "source": [
    "x =float(5.5)\n",
    "print(x)"
   ]
  },
  {
   "cell_type": "markdown",
   "metadata": {},
   "source": [
    "the default values returned from input() is str\n"
   ]
  },
  {
   "cell_type": "code",
   "execution_count": 44,
   "metadata": {},
   "outputs": [
    {
     "name": "stdout",
     "output_type": "stream",
     "text": [
      "the values of z is : 7\n"
     ]
    }
   ],
   "source": [
    "x=int(input(\"What is x?\"))\n",
    "y=int(input(\"What is y?\"))\n",
    "z=x+y\n",
    "print(f\"the values of z is : {z}\")"
   ]
  },
  {
   "cell_type": "markdown",
   "metadata": {},
   "source": [
    "# FLOAT\n",
    "\n",
    "round(number[,ndigits])\n",
    "when you see [] in documentation it mean's generally optional\n"
   ]
  },
  {
   "cell_type": "code",
   "execution_count": 49,
   "metadata": {},
   "outputs": [
    {
     "name": "stdout",
     "output_type": "stream",
     "text": [
      "the values of z is : 3\n"
     ]
    }
   ],
   "source": [
    "x=float(input(\"What is x?\"))\n",
    "y=float(input(\"What is y?\"))\n",
    "z=round(x+y)\n",
    "print(f\"the values of z is : {z:,}\")"
   ]
  },
  {
   "cell_type": "code",
   "execution_count": 52,
   "metadata": {},
   "outputs": [
    {
     "name": "stdout",
     "output_type": "stream",
     "text": [
      "the values of z is : 1.5\n"
     ]
    }
   ],
   "source": [
    "x=float(input(\"What is x?\"))\n",
    "y=float(input(\"What is y?\"))\n",
    "z=round(x/y,2) # round the second digit from the decimal value\n",
    "print(f\"the values of z is : {z}\") # or {z:.2f} same as round(z,2)"
   ]
  },
  {
   "cell_type": "markdown",
   "metadata": {},
   "source": [
    "# def\n",
    "\n",
    "def is short for define\n"
   ]
  },
  {
   "cell_type": "code",
   "execution_count": 54,
   "metadata": {},
   "outputs": [
    {
     "name": "stdout",
     "output_type": "stream",
     "text": [
      "hello Hi\n"
     ]
    }
   ],
   "source": [
    "def hello(to=\"world\"):\n",
    "    print(f\"hello {to}\")\n",
    "\n",
    "\n",
    "user_name = input(\"what's your name ?\").strip().title()\n",
    "hello(user_name)\n"
   ]
  },
  {
   "cell_type": "code",
   "execution_count": 55,
   "metadata": {},
   "outputs": [
    {
     "name": "stdout",
     "output_type": "stream",
     "text": [
      "hello Hi\n"
     ]
    }
   ],
   "source": [
    "def main ():\n",
    "    user_name = input(\"what's your name ?\").strip().title()\n",
    "    hello(user_name)\n",
    "\n",
    "\n",
    "def hello(to=\"world\"):\n",
    "    print(f\"hello {to}\")\n",
    "\n",
    "main()"
   ]
  },
  {
   "cell_type": "code",
   "execution_count": 60,
   "metadata": {},
   "outputs": [
    {
     "name": "stdout",
     "output_type": "stream",
     "text": [
      "x squared is  25\n"
     ]
    }
   ],
   "source": [
    "def main():\n",
    "    x=int(input(\"What is x?\"))\n",
    "    print(\"x squared is \" , square(x))\n",
    "\n",
    "def square(x):\n",
    "    return x**2 # x** number of power\n",
    "    # return pow(x,2)\n",
    "    \n",
    "main()"
   ]
  },
  {
   "cell_type": "code",
   "execution_count": 3,
   "metadata": {},
   "outputs": [
    {
     "name": "stdout",
     "output_type": "stream",
     "text": [
      "goodbye world\n"
     ]
    }
   ],
   "source": [
    "def greet(input):\n",
    "    if \"hello\" in input:\n",
    "        return \"hello world\"\n",
    "    else:\n",
    "        return \"goodbye world\"\n",
    "\n",
    "greeting = greet(\"no\")\n",
    "print(greeting)"
   ]
  },
  {
   "cell_type": "code",
   "execution_count": 3,
   "metadata": {},
   "outputs": [
    {
     "name": "stdout",
     "output_type": "stream",
     "text": [
      "Congratulations! You guessed correctly.\n"
     ]
    }
   ],
   "source": [
    "def get_guess():\n",
    "    guess = input(\"Enter a guess :\") # the default input returned value is a string ex : \"30\" not 30\n",
    "    return int(guess)\n",
    "\n",
    "def main():\n",
    "    guess = get_guess()\n",
    "    if guess == 50:\n",
    "        print(\"Congratulations! You guessed correctly.\")\n",
    "    else:\n",
    "        print(\"Sorry, you guessed incorrectly. The correct answer is 50.\")\n",
    "\n",
    "main()"
   ]
  },
  {
   "cell_type": "code",
   "execution_count": 9,
   "metadata": {},
   "outputs": [
    {
     "name": "stdout",
     "output_type": "stream",
     "text": [
      "Is anyone there? v.v\n",
      "Oh ,hi! :D\n"
     ]
    }
   ],
   "source": [
    "emoticon =\"v.v\"\n",
    "\n",
    "def main():\n",
    "    global emoticon # If I add this I can edit the emoticon value\n",
    "    say(\"Is anyone there?\")\n",
    "    emoticon=\":D\" # In this case I can't modify the global variable\n",
    "    say(\"Oh ,hi!\")\n",
    "\n",
    "def say(phrase):\n",
    "    print(phrase +\" \"+ emoticon) \n",
    "\n",
    "main()\n"
   ]
  }
 ],
 "metadata": {
  "kernelspec": {
   "display_name": "Python 3",
   "language": "python",
   "name": "python3"
  },
  "language_info": {
   "codemirror_mode": {
    "name": "ipython",
    "version": 3
   },
   "file_extension": ".py",
   "mimetype": "text/x-python",
   "name": "python",
   "nbconvert_exporter": "python",
   "pygments_lexer": "ipython3",
   "version": "3.11.2"
  }
 },
 "nbformat": 4,
 "nbformat_minor": 2
}
