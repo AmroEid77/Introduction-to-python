{
 "cells": [
  {
   "cell_type": "markdown",
   "metadata": {},
   "source": [
    "# Conditionals"
   ]
  },
  {
   "cell_type": "code",
   "execution_count": 7,
   "metadata": {},
   "outputs": [
    {
     "name": "stdout",
     "output_type": "stream",
     "text": [
      "x is less than y\n"
     ]
    }
   ],
   "source": [
    "x=int(input(\"what's x ?\"))\n",
    "y=int(input(\"what's y\"))\n",
    "\n",
    "if x < y:\n",
    "    print(\"x is less than y\")\n",
    "\n",
    "elif x > y:\n",
    "    print(\"x is greater than y\")\n",
    "else:\n",
    "    print(\"x is equal to y\")"
   ]
  },
  {
   "cell_type": "markdown",
   "metadata": {},
   "source": [
    "Lets use now the keyword  ----> or"
   ]
  },
  {
   "cell_type": "code",
   "execution_count": 8,
   "metadata": {},
   "outputs": [
    {
     "name": "stdout",
     "output_type": "stream",
     "text": [
      "x is not equal to y\n"
     ]
    }
   ],
   "source": [
    "x=int(input(\"what's x ?\"))\n",
    "y=int(input(\"what's y\"))\n",
    "\n",
    "#if x < y or x > y:\n",
    "if x!= y: # this version is better we write less words \n",
    "    print(\"x is not equal to y\")\n",
    "\n",
    "else:\n",
    "    print(\"x is equal to y\")"
   ]
  },
  {
   "cell_type": "markdown",
   "metadata": {},
   "source": [
    "and"
   ]
  },
  {
   "cell_type": "code",
   "execution_count": 12,
   "metadata": {},
   "outputs": [
    {
     "name": "stdout",
     "output_type": "stream",
     "text": [
      "Grade: F\n"
     ]
    }
   ],
   "source": [
    "score =int(input(\"Score :\"))\n",
    "\n",
    "if score >= 90 and score <=100:\n",
    "    print(\"Grade: A\")\n",
    "elif score >=80 and score <=89:\n",
    "    print(\"Grade: B\")\n",
    "\n",
    "elif score >=70 and score <=79:\n",
    "    print(\"Grade: C\")\n",
    "\n",
    "elif score >=60 and score <=69:\n",
    "    print(\"Grade: D\")\n",
    "else:\n",
    "    print(\"Grade: F\")"
   ]
  },
  {
   "cell_type": "markdown",
   "metadata": {},
   "source": [
    "now let's do some improvement"
   ]
  },
  {
   "cell_type": "code",
   "execution_count": 13,
   "metadata": {},
   "outputs": [
    {
     "name": "stdout",
     "output_type": "stream",
     "text": [
      "Grade: B\n"
     ]
    }
   ],
   "source": [
    "score =int(input(\"Score :\"))\n",
    "\n",
    "if 90 <= score <=100:\n",
    "    print(\"Grade: A\")\n",
    "elif 80 <= score <=89:\n",
    "    print(\"Grade: B\")\n",
    "\n",
    "elif 70 <= score <=79:\n",
    "    print(\"Grade: C\")\n",
    "\n",
    "elif 60 <= score <=69:\n",
    "    print(\"Grade: D\")\n",
    "else:\n",
    "    print(\"Grade: F\")"
   ]
  },
  {
   "cell_type": "markdown",
   "metadata": {},
   "source": [
    "one more"
   ]
  },
  {
   "cell_type": "code",
   "execution_count": 14,
   "metadata": {},
   "outputs": [
    {
     "name": "stdout",
     "output_type": "stream",
     "text": [
      "Grade: F\n"
     ]
    }
   ],
   "source": [
    "score =int(input(\"Score :\"))\n",
    "\n",
    "if  score >=90:\n",
    "    print(\"Grade: A\")\n",
    "elif  score >=80:\n",
    "    print(\"Grade: B\")\n",
    "\n",
    "elif score >=70:\n",
    "    print(\"Grade: C\")\n",
    "\n",
    "elif score >=60:\n",
    "    print(\"Grade: D\")\n",
    "else:\n",
    "    print(\"Grade: F\")"
   ]
  },
  {
   "cell_type": "markdown",
   "metadata": {},
   "source": [
    "Parity"
   ]
  },
  {
   "cell_type": "code",
   "execution_count": 19,
   "metadata": {},
   "outputs": [
    {
     "name": "stdout",
     "output_type": "stream",
     "text": [
      "x is odd\n"
     ]
    }
   ],
   "source": [
    "def is_even(n):\n",
    "    return n % 2 == 0 # return True if x % 2 ==0 else False\n",
    "\n",
    "def main():\n",
    "    x = int(input(\"What's is x?\"))\n",
    "    if is_even(x):\n",
    "        print(\"x is even\")\n",
    "    else:\n",
    "        print(\"x is odd\")\n",
    "\n",
    "main()"
   ]
  },
  {
   "cell_type": "markdown",
   "metadata": {},
   "source": [
    "# Match\n",
    "it's the same as switch in c++ and other languages"
   ]
  },
  {
   "cell_type": "code",
   "execution_count": 23,
   "metadata": {},
   "outputs": [
    {
     "name": "stdout",
     "output_type": "stream",
     "text": [
      "Slytherin\n"
     ]
    }
   ],
   "source": [
    "name = input(\"What is your name?\").strip()\n",
    "\n",
    "match name:\n",
    "    case \"Harry\" | \"Hermione\" | \"Ron\":\n",
    "        print(\"Gryffindor\")\n",
    "    \n",
    "    case \"Draco\":\n",
    "        print(\"Slytherin\")\n",
    "    case _:\n",
    "        print(\"I don't know your house\")"
   ]
  },
  {
   "cell_type": "markdown",
   "metadata": {},
   "source": [
    "# Extra from shorts"
   ]
  },
  {
   "cell_type": "code",
   "execution_count": 28,
   "metadata": {},
   "outputs": [
    {
     "name": "stdout",
     "output_type": "stream",
     "text": [
      "You might like CS:GO\n"
     ]
    }
   ],
   "source": [
    "def main():\n",
    "    difficulty = input(\"Difficulty or Casual?\")\n",
    "    players =input(\"Multiplayer or Single-player?\")\n",
    "    \n",
    "    if difficulty.lower() == \"difficulty\":\n",
    "        if players.lower() == \"multiplayer\":\n",
    "            recommend(\"Overwatch\")\n",
    "        else:\n",
    "            recommend(\"CS:GO\")\n",
    "\n",
    "    elif difficulty.lower() == 'casual':\n",
    "        if players.lower() == \"multiplayer\":\n",
    "            recommend(\"Pubg Steam\")\n",
    "        else:\n",
    "            recommend(\"League of Legends\")\n",
    "    else:\n",
    "        print(\"Invalid input. Please try again.\")\n",
    "\n",
    "def recommend (game):\n",
    "    print(\"You might like\",game)\n",
    "\n",
    "main()"
   ]
  }
 ],
 "metadata": {
  "kernelspec": {
   "display_name": "Python 3",
   "language": "python",
   "name": "python3"
  },
  "language_info": {
   "codemirror_mode": {
    "name": "ipython",
    "version": 3
   },
   "file_extension": ".py",
   "mimetype": "text/x-python",
   "name": "python",
   "nbconvert_exporter": "python",
   "pygments_lexer": "ipython3",
   "version": "3.11.2"
  }
 },
 "nbformat": 4,
 "nbformat_minor": 2
}
