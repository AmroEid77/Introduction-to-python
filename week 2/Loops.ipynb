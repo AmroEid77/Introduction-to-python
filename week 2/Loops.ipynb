{
 "cells": [
  {
   "cell_type": "markdown",
   "metadata": {},
   "source": [
    "# While\n",
    "Imagine harvard doctors say Meow xdxdxdxdx"
   ]
  },
  {
   "cell_type": "code",
   "execution_count": 3,
   "metadata": {},
   "outputs": [
    {
     "name": "stdout",
     "output_type": "stream",
     "text": [
      "Meow : 0\n",
      "Meow : 1\n",
      "Meow : 2\n"
     ]
    }
   ],
   "source": [
    "i = 0\n",
    "while i < 3:\n",
    "    print(f\"Meow : {i}\")\n",
    "    i += 1\n",
    "\n"
   ]
  },
  {
   "cell_type": "markdown",
   "metadata": {},
   "source": [
    "# For\n",
    "range(n) :generates a sequence of numbers starting from 0 up to, but not including, n"
   ]
  },
  {
   "cell_type": "code",
   "execution_count": 4,
   "metadata": {},
   "outputs": [
    {
     "name": "stdout",
     "output_type": "stream",
     "text": [
      "Meow : 0\n",
      "Meow : 1\n",
      "Meow : 2\n",
      "range(0, 3)\n"
     ]
    }
   ],
   "source": [
    "for i in range(3):  # range(3) mean you have array [0,1,2] and the i take the values of them based on length of array\n",
    "    print(f\"Meow : {i}\")\n",
    "print(range(3))\n",
    "# if I dont care about variable i I can replace it with underscore :   _   \n"
   ]
  },
  {
   "cell_type": "code",
   "execution_count": 8,
   "metadata": {},
   "outputs": [
    {
     "name": "stdout",
     "output_type": "stream",
     "text": [
      "Meow\n",
      "Meow\n",
      "Meow\n",
      "\n"
     ]
    }
   ],
   "source": [
    "print(\"Meow\\n\" * 3, end='\\n')"
   ]
  },
  {
   "cell_type": "code",
   "execution_count": 11,
   "metadata": {},
   "outputs": [
    {
     "name": "stdout",
     "output_type": "stream",
     "text": [
      "Meow\n",
      "Meow\n",
      "Meow\n"
     ]
    }
   ],
   "source": [
    "# Validation\n",
    "\n",
    "while True:\n",
    "    n = int(input(\"What's n?\"))\n",
    "    if n>0:\n",
    "        break\n",
    "\n",
    "for _ in range(n):\n",
    "    print(\"Meow\")\n"
   ]
  },
  {
   "cell_type": "code",
   "execution_count": 14,
   "metadata": {},
   "outputs": [
    {
     "name": "stdout",
     "output_type": "stream",
     "text": [
      "Meow\n",
      "Meow\n",
      "Meow\n"
     ]
    }
   ],
   "source": [
    "def main():\n",
    "    number = get_number()\n",
    "    meow(number)\n",
    "def get_number():\n",
    "    while True:\n",
    "        n = int(input(\"What's n?\"))\n",
    "        if n>0:\n",
    "            break\n",
    "    return n\n",
    "def meow(n):\n",
    "    for _ in range(n):\n",
    "        print(\"Meow\")\n",
    "\n",
    "main()"
   ]
  },
  {
   "cell_type": "markdown",
   "metadata": {},
   "source": [
    "# List"
   ]
  },
  {
   "cell_type": "code",
   "execution_count": 19,
   "metadata": {},
   "outputs": [
    {
     "name": "stdout",
     "output_type": "stream",
     "text": [
      "['Hermione', 'Harry', 'Ron']\n",
      "Hermione\n"
     ]
    }
   ],
   "source": [
    "students = [\"Hermione\",\"Harry\",\"Ron\"]\n",
    "print(students)\n",
    "print(students[0]) # object[index]\n",
    "\n"
   ]
  },
  {
   "cell_type": "code",
   "execution_count": 22,
   "metadata": {},
   "outputs": [
    {
     "name": "stdout",
     "output_type": "stream",
     "text": [
      "Hermione\n",
      "Harry\n",
      "Ron\n",
      "------------------------------\n",
      "Hermione\n",
      "Harry\n",
      "Ron\n"
     ]
    }
   ],
   "source": [
    "for student in students:\n",
    "    print(student)\n",
    "print('------------------------------')\n",
    "# len(object) it will tell the length \n",
    "for i in range(len(students)):\n",
    "    print(students[i])\n"
   ]
  },
  {
   "cell_type": "code",
   "execution_count": 24,
   "metadata": {},
   "outputs": [
    {
     "name": "stdout",
     "output_type": "stream",
     "text": [
      "the length of word Hermione : 8\n",
      "the length of word Harry : 5\n",
      "the length of word Ron : 3\n"
     ]
    }
   ],
   "source": [
    "# length of each student name\n",
    "for student in students:\n",
    "    print(f\"the length of word {student} :\",len(student))"
   ]
  },
  {
   "cell_type": "markdown",
   "metadata": {},
   "source": [
    "# Dictionary"
   ]
  },
  {
   "cell_type": "code",
   "execution_count": 25,
   "metadata": {},
   "outputs": [],
   "source": [
    "students = [\"Hermione\",\"Harry\",\"Ron\",\"Draco\"]\n",
    "house = [\"Gryffindor\",\"Gryffindor\",\"Gryffindor\",\"Slytherin\"]"
   ]
  },
  {
   "cell_type": "code",
   "execution_count": 28,
   "metadata": {},
   "outputs": [
    {
     "name": "stdout",
     "output_type": "stream",
     "text": [
      "the house is Gryffindor and the student name is Hermione\n",
      "the house is Gryffindor and the student name is Harry\n",
      "the house is Gryffindor and the student name is Ron\n",
      "the house is Slytherin and the student name is Draco\n"
     ]
    }
   ],
   "source": [
    "students ={\"Gryffindor\":[\"Hermione\",\"Harry\",\"Ron\"]\n",
    "            ,\"Slytherin\":[\"Draco\"]}\n",
    "\n",
    "for house in students:\n",
    "    \n",
    "    for student in students[house]:\n",
    "        print(f\"the house is {house} and the student name is {student}\")\n",
    "    "
   ]
  },
  {
   "cell_type": "markdown",
   "metadata": {},
   "source": [
    "# List of dictionaries"
   ]
  },
  {
   "cell_type": "code",
   "execution_count": 31,
   "metadata": {},
   "outputs": [
    {
     "name": "stdout",
     "output_type": "stream",
     "text": [
      "Hermione  Gryffindor  Otter\n",
      "Harry  Gryffindor  Stag\n",
      "Ron  Gryffindor  Jack Russell terrier\n",
      "Draco  Slytherin  None\n"
     ]
    }
   ],
   "source": [
    "students = [\n",
    "    {\"name\":\"Hermione\",\"house\":\"Gryffindor\",\"patronus\":\"Otter\"},\n",
    "    {\"name\":\"Harry\",\"house\":\"Gryffindor\",\"patronus\":\"Stag\"},\n",
    "    {\"name\":\"Ron\",\"house\":\"Gryffindor\",\"patronus\":\"Jack Russell terrier\"},\n",
    "    {\"name\":\"Draco\",\"house\":\"Slytherin\",\"patronus\":None}\n",
    "]\n",
    "\n",
    "for student in students:\n",
    "    print(student['name'] , student['house'] , student['patronus'] , sep='  ')"
   ]
  },
  {
   "cell_type": "markdown",
   "metadata": {},
   "source": [
    "# Nested loops"
   ]
  },
  {
   "cell_type": "code",
   "execution_count": 32,
   "metadata": {},
   "outputs": [
    {
     "name": "stdout",
     "output_type": "stream",
     "text": [
      "#\n",
      "#\n",
      "#\n"
     ]
    }
   ],
   "source": [
    "for _ in range(3):\n",
    "    print(\"#\")"
   ]
  },
  {
   "cell_type": "code",
   "execution_count": 34,
   "metadata": {},
   "outputs": [
    {
     "name": "stdout",
     "output_type": "stream",
     "text": [
      "#\n",
      "#\n",
      "#\n",
      "#\n",
      "#\n",
      "#\n"
     ]
    }
   ],
   "source": [
    "def main():\n",
    "    print_column(3)\n",
    "\n",
    "def print_column(height):\n",
    "    #print(\"#\\n\" * height ,end=\"\")\n",
    "    for _ in range(height):\n",
    "        print(\"#\")\n",
    "main()"
   ]
  },
  {
   "cell_type": "code",
   "execution_count": 35,
   "metadata": {},
   "outputs": [
    {
     "name": "stdout",
     "output_type": "stream",
     "text": [
      "????\n"
     ]
    }
   ],
   "source": [
    "def main():\n",
    "    print_row(4)\n",
    "\n",
    "def print_row(width):\n",
    "    print(\"?\" * width)\n",
    "\n",
    "main()"
   ]
  },
  {
   "cell_type": "code",
   "execution_count": 43,
   "metadata": {},
   "outputs": [
    {
     "name": "stdout",
     "output_type": "stream",
     "text": [
      "????\n",
      "????\n",
      "????\n",
      "????\n"
     ]
    }
   ],
   "source": [
    "def main():\n",
    "    print_square(4)\n",
    "\n",
    "def print_square(size):\n",
    "    for _ in range(size):\n",
    "        print_row(size)\n",
    "# or\n",
    "\n",
    "def print_square_2(size):\n",
    "    for _ in range(size):\n",
    "        print(\"?\" * size)\n",
    "\n",
    "# or\n",
    "\n",
    "def print_square_3(size):\n",
    "    for _ in range(size):\n",
    "        for j in range(size):\n",
    "            print(\"?\", end=\"\")\n",
    "        print()\n",
    "\n",
    "main()"
   ]
  }
 ],
 "metadata": {
  "kernelspec": {
   "display_name": "Python 3",
   "language": "python",
   "name": "python3"
  },
  "language_info": {
   "codemirror_mode": {
    "name": "ipython",
    "version": 3
   },
   "file_extension": ".py",
   "mimetype": "text/x-python",
   "name": "python",
   "nbconvert_exporter": "python",
   "pygments_lexer": "ipython3",
   "version": "3.11.2"
  }
 },
 "nbformat": 4,
 "nbformat_minor": 2
}
