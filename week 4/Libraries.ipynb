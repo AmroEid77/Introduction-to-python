{
 "cells": [
  {
   "cell_type": "markdown",
   "metadata": {},
   "source": [
    "# Libraries"
   ]
  },
  {
   "cell_type": "code",
   "execution_count": 17,
   "metadata": {},
   "outputs": [],
   "source": [
    "import random # we import everything in library random\n",
    "#from random import choice"
   ]
  },
  {
   "cell_type": "code",
   "execution_count": 18,
   "metadata": {},
   "outputs": [
    {
     "name": "stdout",
     "output_type": "stream",
     "text": [
      "tails\n"
     ]
    }
   ],
   "source": [
    "# random.choice(seq)\n",
    "coin=random.choice([\"heads\",\"tails\"])\n",
    "print(coin)"
   ]
  },
  {
   "cell_type": "markdown",
   "metadata": {},
   "source": [
    "random.randint(a,b)"
   ]
  },
  {
   "cell_type": "code",
   "execution_count": 23,
   "metadata": {},
   "outputs": [
    {
     "name": "stdout",
     "output_type": "stream",
     "text": [
      "2\n"
     ]
    }
   ],
   "source": [
    "guess =random.randint(1,10) # Generate value between a, b\n",
    "print(guess)"
   ]
  },
  {
   "cell_type": "markdown",
   "metadata": {},
   "source": [
    "# random.shuffle(x)\n",
    "it take the value of x and shuffle them ex: x=[1,2,3] then x=[2,1,3]"
   ]
  },
  {
   "cell_type": "code",
   "execution_count": 28,
   "metadata": {},
   "outputs": [
    {
     "name": "stdout",
     "output_type": "stream",
     "text": [
      "['Amro', 'jack', 'Abdullah']\n"
     ]
    }
   ],
   "source": [
    "cards=[\"jack\",\"Amro\",\"Abdullah\"]\n",
    "random.shuffle(cards) # shuffle the values in cards\n",
    "print(cards)"
   ]
  },
  {
   "cell_type": "markdown",
   "metadata": {},
   "source": [
    "# Statistics"
   ]
  },
  {
   "cell_type": "code",
   "execution_count": 29,
   "metadata": {},
   "outputs": [],
   "source": [
    "import statistics"
   ]
  },
  {
   "cell_type": "code",
   "execution_count": 32,
   "metadata": {},
   "outputs": [
    {
     "name": "stdout",
     "output_type": "stream",
     "text": [
      "2.75\n"
     ]
    }
   ],
   "source": [
    "mean=statistics.mean([1,2,3,5])\n",
    "print(mean) # We compute the average across all values"
   ]
  },
  {
   "cell_type": "markdown",
   "metadata": {},
   "source": [
    "# Sys"
   ]
  },
  {
   "cell_type": "code",
   "execution_count": 39,
   "metadata": {},
   "outputs": [],
   "source": [
    "import sys"
   ]
  },
  {
   "cell_type": "markdown",
   "metadata": {},
   "source": [
    "In the terminal write python nameOfTheFile.py yourname or argv[1] this is"
   ]
  },
  {
   "cell_type": "code",
   "execution_count": 42,
   "metadata": {},
   "outputs": [
    {
     "name": "stdout",
     "output_type": "stream",
     "text": [
      "hello , my name is  --f=c:\\Users\\amroe\\AppData\\Roaming\\jupyter\\runtime\\kernel-v2-2168403L1fAbI0pa8.json\n"
     ]
    }
   ],
   "source": [
    "print(\"hello , my name is \",sys.argv[1])"
   ]
  },
  {
   "cell_type": "code",
   "execution_count": 43,
   "metadata": {},
   "outputs": [
    {
     "name": "stdout",
     "output_type": "stream",
     "text": [
      "hello , my name is  --f=c:\\Users\\amroe\\AppData\\Roaming\\jupyter\\runtime\\kernel-v2-2168403L1fAbI0pa8.json\n"
     ]
    }
   ],
   "source": [
    "try :\n",
    "    print(\"hello , my name is \",sys.argv[1])\n",
    "except IndexError:\n",
    "    print(\"No arguments provided\")\n"
   ]
  },
  {
   "cell_type": "code",
   "execution_count": 44,
   "metadata": {},
   "outputs": [
    {
     "name": "stdout",
     "output_type": "stream",
     "text": [
      "hello , my name is  --f=c:\\Users\\amroe\\AppData\\Roaming\\jupyter\\runtime\\kernel-v2-2168403L1fAbI0pa8.json\n"
     ]
    }
   ],
   "source": [
    "if len(sys.argv)<2: # python name.py\n",
    "    print(\"Too few arguments \")\n",
    "elif len(sys.argv)>2: # ex : python name.py Amro Eid\n",
    "    print(\"Too many arguments \")\n",
    "else:  # python name.py Amro or  python name.py \"Amro Eid\"\n",
    "    print(\"hello , my name is \",sys.argv[1])"
   ]
  },
  {
   "cell_type": "markdown",
   "metadata": {},
   "source": [
    "sys.exit"
   ]
  },
  {
   "cell_type": "code",
   "execution_count": 45,
   "metadata": {},
   "outputs": [
    {
     "name": "stdout",
     "output_type": "stream",
     "text": [
      "hello , my name is  --f=c:\\Users\\amroe\\AppData\\Roaming\\jupyter\\runtime\\kernel-v2-2168403L1fAbI0pa8.json\n"
     ]
    }
   ],
   "source": [
    "# Check for error\n",
    "if len(sys.argv)<2: # python name.py\n",
    "    sys.exit(\"Too few arguments \")\n",
    "elif len(sys.argv)>2: # ex : python name.py Amro Eid\n",
    "    sys.exit(\"Too many arguments \")\n",
    "\n",
    "#Print name tags\n",
    "print(\"hello , my name is \",sys.argv[1])"
   ]
  },
  {
   "cell_type": "code",
   "execution_count": 46,
   "metadata": {},
   "outputs": [
    {
     "name": "stdout",
     "output_type": "stream",
     "text": [
      "hello , my name is  C:\\Users\\amroe\\AppData\\Roaming\\Python\\Python311\\site-packages\\ipykernel_launcher.py\n",
      "hello , my name is  --f=c:\\Users\\amroe\\AppData\\Roaming\\jupyter\\runtime\\kernel-v2-2168403L1fAbI0pa8.json\n"
     ]
    }
   ],
   "source": [
    "# Check for error\n",
    "if len(sys.argv)<2: # python name.py\n",
    "    sys.exit(\"Too few arguments \")\n",
    "\n",
    "# python name.py Amro Eid is the a good guy :) write this in terminal while using python not jupyter notebook\n",
    "for arg in sys.argv:\n",
    "    print(\"hello , my name is \",arg)"
   ]
  },
  {
   "cell_type": "markdown",
   "metadata": {},
   "source": [
    "# Slice\n",
    "[BEGIN_INDEX , END_INDEX , STEPS]"
   ]
  },
  {
   "cell_type": "code",
   "execution_count": 47,
   "metadata": {},
   "outputs": [
    {
     "name": "stdout",
     "output_type": "stream",
     "text": [
      "hello , my name is  --f=c:\\Users\\amroe\\AppData\\Roaming\\jupyter\\runtime\\kernel-v2-2168403L1fAbI0pa8.json\n"
     ]
    }
   ],
   "source": [
    "# Check for error\n",
    "if len(sys.argv)<2: # python name.py\n",
    "    sys.exit(\"Too few arguments \")\n",
    "\n",
    "# python name.py Amro Eid is the a good guy :) write this in terminal while using python not jupyter notebook\n",
    "for arg in sys.argv[1:]:\n",
    "    print(\"hello , my name is \",arg)"
   ]
  },
  {
   "cell_type": "markdown",
   "metadata": {},
   "source": [
    "# Packages\n",
    "third party library\n",
    "\n",
    "pypi.org\n",
    "cowsay\n",
    "\n",
    "pip allow us to download packages\n",
    "write in terminal pip install cowsay"
   ]
  },
  {
   "cell_type": "code",
   "execution_count": 51,
   "metadata": {},
   "outputs": [
    {
     "name": "stdout",
     "output_type": "stream",
     "text": [
      "Defaulting to user installation because normal site-packages is not writeable\n",
      "Collecting cowsay\n",
      "  Obtaining dependency information for cowsay from https://files.pythonhosted.org/packages/f1/13/63c0a02c44024ee16f664e0b36eefeb22d54e93531630bd99e237986f534/cowsay-6.1-py3-none-any.whl.metadata\n",
      "  Downloading cowsay-6.1-py3-none-any.whl.metadata (5.6 kB)\n",
      "Downloading cowsay-6.1-py3-none-any.whl (25 kB)\n",
      "Installing collected packages: cowsay\n",
      "Successfully installed cowsay-6.1\n"
     ]
    },
    {
     "name": "stderr",
     "output_type": "stream",
     "text": [
      "\n",
      "[notice] A new release of pip is available: 23.2.1 -> 24.1.2\n",
      "[notice] To update, run: python.exe -m pip install --upgrade pip\n"
     ]
    }
   ],
   "source": [
    "!pip install cowsay"
   ]
  },
  {
   "cell_type": "code",
   "execution_count": 52,
   "metadata": {},
   "outputs": [],
   "source": [
    "import cowsay\n",
    "import sys"
   ]
  },
  {
   "cell_type": "code",
   "execution_count": 58,
   "metadata": {},
   "outputs": [
    {
     "name": "stdout",
     "output_type": "stream",
     "text": [
      "  ____________\n",
      "| hello , Amro |\n",
      "  ============\n",
      "            \\\n",
      "             \\\n",
      "               ^__^\n",
      "               (oo)\\_______\n",
      "               (__)\\       )\\/\\\n",
      "                   ||----w |\n",
      "                   ||     ||\n"
     ]
    }
   ],
   "source": [
    "if len(sys.argv) ==2:\n",
    "    cowsay.trex(\"hello , Amro\")\n",
    "    #cowsay.cow"
   ]
  },
  {
   "cell_type": "markdown",
   "metadata": {},
   "source": [
    "# APIs"
   ]
  },
  {
   "cell_type": "code",
   "execution_count": 59,
   "metadata": {},
   "outputs": [
    {
     "name": "stdout",
     "output_type": "stream",
     "text": [
      "Defaulting to user installation because normal site-packages is not writeable\n",
      "Collecting requests\n",
      "  Obtaining dependency information for requests from https://files.pythonhosted.org/packages/f9/9b/335f9764261e915ed497fcdeb11df5dfd6f7bf257d4a6a2a686d80da4d54/requests-2.32.3-py3-none-any.whl.metadata\n",
      "  Downloading requests-2.32.3-py3-none-any.whl.metadata (4.6 kB)\n",
      "Collecting charset-normalizer<4,>=2 (from requests)\n",
      "  Obtaining dependency information for charset-normalizer<4,>=2 from https://files.pythonhosted.org/packages/57/ec/80c8d48ac8b1741d5b963797b7c0c869335619e13d4744ca2f67fc11c6fc/charset_normalizer-3.3.2-cp311-cp311-win_amd64.whl.metadata\n",
      "  Downloading charset_normalizer-3.3.2-cp311-cp311-win_amd64.whl.metadata (34 kB)\n",
      "Collecting idna<4,>=2.5 (from requests)\n",
      "  Obtaining dependency information for idna<4,>=2.5 from https://files.pythonhosted.org/packages/e5/3e/741d8c82801c347547f8a2a06aa57dbb1992be9e948df2ea0eda2c8b79e8/idna-3.7-py3-none-any.whl.metadata\n",
      "  Downloading idna-3.7-py3-none-any.whl.metadata (9.9 kB)\n",
      "Collecting urllib3<3,>=1.21.1 (from requests)\n",
      "  Obtaining dependency information for urllib3<3,>=1.21.1 from https://files.pythonhosted.org/packages/ca/1c/89ffc63a9605b583d5df2be791a27bc1a42b7c32bab68d3c8f2f73a98cd4/urllib3-2.2.2-py3-none-any.whl.metadata\n",
      "  Downloading urllib3-2.2.2-py3-none-any.whl.metadata (6.4 kB)\n",
      "Collecting certifi>=2017.4.17 (from requests)\n",
      "  Obtaining dependency information for certifi>=2017.4.17 from https://files.pythonhosted.org/packages/1c/d5/c84e1a17bf61d4df64ca866a1c9a913874b4e9bdc131ec689a0ad013fb36/certifi-2024.7.4-py3-none-any.whl.metadata\n",
      "  Downloading certifi-2024.7.4-py3-none-any.whl.metadata (2.2 kB)\n",
      "Downloading requests-2.32.3-py3-none-any.whl (64 kB)\n",
      "   ---------------------------------------- 0.0/64.9 kB ? eta -:--:--\n",
      "   ---------------------------------------- 64.9/64.9 kB 1.8 MB/s eta 0:00:00\n",
      "Downloading certifi-2024.7.4-py3-none-any.whl (162 kB)\n",
      "   ---------------------------------------- 0.0/163.0 kB ? eta -:--:--\n",
      "   --------------------------- ------------ 112.6/163.0 kB 3.3 MB/s eta 0:00:01\n",
      "   ---------------------------------------- 163.0/163.0 kB 2.0 MB/s eta 0:00:00\n",
      "Downloading charset_normalizer-3.3.2-cp311-cp311-win_amd64.whl (99 kB)\n",
      "   ---------------------------------------- 0.0/99.9 kB ? eta -:--:--\n",
      "   ---------------------------------------- 99.9/99.9 kB 5.6 MB/s eta 0:00:00\n",
      "Downloading idna-3.7-py3-none-any.whl (66 kB)\n",
      "   ---------------------------------------- 0.0/66.8 kB ? eta -:--:--\n",
      "   ---------------------------------------- 66.8/66.8 kB ? eta 0:00:00\n",
      "Downloading urllib3-2.2.2-py3-none-any.whl (121 kB)\n",
      "   ---------------------------------------- 0.0/121.4 kB ? eta -:--:--\n",
      "   ---------------------------------------- 121.4/121.4 kB 7.0 MB/s eta 0:00:00\n",
      "Installing collected packages: urllib3, idna, charset-normalizer, certifi, requests\n",
      "Successfully installed certifi-2024.7.4 charset-normalizer-3.3.2 idna-3.7 requests-2.32.3 urllib3-2.2.2\n"
     ]
    },
    {
     "name": "stderr",
     "output_type": "stream",
     "text": [
      "\n",
      "[notice] A new release of pip is available: 23.2.1 -> 24.1.2\n",
      "[notice] To update, run: python.exe -m pip install --upgrade pip\n"
     ]
    }
   ],
   "source": [
    "!pip install requests"
   ]
  },
  {
   "cell_type": "code",
   "execution_count": 65,
   "metadata": {},
   "outputs": [],
   "source": [
    "import json\n",
    "import requests\n",
    "import sys"
   ]
  },
  {
   "cell_type": "code",
   "execution_count": 73,
   "metadata": {},
   "outputs": [
    {
     "name": "stdout",
     "output_type": "stream",
     "text": [
      "{\n",
      "  \"resultCount\": 10,\n",
      "  \"results\": [\n",
      "    {\n",
      "      \"wrapperType\": \"track\",\n",
      "      \"kind\": \"song\",\n",
      "      \"artistId\": 115234,\n",
      "      \"collectionId\": 1440878798,\n",
      "      \"trackId\": 1440879325,\n",
      "      \"artistName\": \"Weezer\",\n",
      "      \"collectionName\": \"Weezer\",\n",
      "      \"trackName\": \"Buddy Holly\",\n",
      "      \"collectionCensoredName\": \"Weezer\",\n",
      "      \"trackCensoredName\": \"Buddy Holly\",\n",
      "      \"artistViewUrl\": \"https://music.apple.com/us/artist/weezer/115234?uo=4\",\n",
      "      \"collectionViewUrl\": \"https://music.apple.com/us/album/buddy-holly/1440878798?i=1440879325&uo=4\",\n",
      "      \"trackViewUrl\": \"https://music.apple.com/us/album/buddy-holly/1440878798?i=1440879325&uo=4\",\n",
      "      \"previewUrl\": \"https://audio-ssl.itunes.apple.com/itunes-assets/AudioPreview211/v4/b1/35/53/b13553c8-22f3-3e62-47cc-beaf65440f0e/mzaf_9734530910938773283.plus.aac.p.m4a\",\n",
      "      \"artworkUrl30\": \"https://is1-ssl.mzstatic.com/image/thumb/Music221/v4/d0/16/da/d016da24-577e-b584-3a5a-116efb5ca362/16UMGIM52971.rgb.jpg/30x30bb.jpg\",\n",
      "      \"artworkUrl60\": \"https://is1-ssl.mzstatic.com/image/thumb/Music221/v4/d0/16/da/d016da24-577e-b584-3a5a-116efb5ca362/16UMGIM52971.rgb.jpg/60x60bb.jpg\",\n",
      "      \"artworkUrl100\": \"https://is1-ssl.mzstatic.com/image/thumb/Music221/v4/d0/16/da/d016da24-577e-b584-3a5a-116efb5ca362/16UMGIM52971.rgb.jpg/100x100bb.jpg\",\n",
      "      \"collectionPrice\": 10.99,\n",
      "      \"trackPrice\": 1.29,\n",
      "      \"releaseDate\": \"1994-02-28T12:00:00Z\",\n",
      "      \"collectionExplicitness\": \"notExplicit\",\n",
      "      \"trackExplicitness\": \"notExplicit\",\n",
      "      \"discCount\": 1,\n",
      "      \"discNumber\": 1,\n",
      "      \"trackCount\": 10,\n",
      "      \"trackNumber\": 4,\n",
      "      \"trackTimeMillis\": 159587,\n",
      "      \"country\": \"USA\",\n",
      "      \"currency\": \"USD\",\n",
      "      \"primaryGenreName\": \"Pop\",\n",
      "      \"isStreamable\": true\n",
      "    },\n",
      "    {\n",
      "      \"wrapperType\": \"track\",\n",
      "      \"kind\": \"song\",\n",
      "      \"artistId\": 115234,\n",
      "      \"collectionId\": 1440878798,\n",
      "      \"trackId\": 1440879551,\n",
      "      \"artistName\": \"Weezer\",\n",
      "      \"collectionName\": \"Weezer\",\n",
      "      \"trackName\": \"Say It Ain't So\",\n",
      "      \"collectionCensoredName\": \"Weezer\",\n",
      "      \"trackCensoredName\": \"Say It Ain't So\",\n",
      "      \"artistViewUrl\": \"https://music.apple.com/us/artist/weezer/115234?uo=4\",\n",
      "      \"collectionViewUrl\": \"https://music.apple.com/us/album/say-it-aint-so/1440878798?i=1440879551&uo=4\",\n",
      "      \"trackViewUrl\": \"https://music.apple.com/us/album/say-it-aint-so/1440878798?i=1440879551&uo=4\",\n",
      "      \"previewUrl\": \"https://audio-ssl.itunes.apple.com/itunes-assets/AudioPreview211/v4/11/23/6f/11236f0d-9b5a-b780-5ebb-56c1dc512e3a/mzaf_11156035496161349512.plus.aac.p.m4a\",\n",
      "      \"artworkUrl30\": \"https://is1-ssl.mzstatic.com/image/thumb/Music221/v4/d0/16/da/d016da24-577e-b584-3a5a-116efb5ca362/16UMGIM52971.rgb.jpg/30x30bb.jpg\",\n",
      "      \"artworkUrl60\": \"https://is1-ssl.mzstatic.com/image/thumb/Music221/v4/d0/16/da/d016da24-577e-b584-3a5a-116efb5ca362/16UMGIM52971.rgb.jpg/60x60bb.jpg\",\n",
      "      \"artworkUrl100\": \"https://is1-ssl.mzstatic.com/image/thumb/Music221/v4/d0/16/da/d016da24-577e-b584-3a5a-116efb5ca362/16UMGIM52971.rgb.jpg/100x100bb.jpg\",\n",
      "      \"collectionPrice\": 10.99,\n",
      "      \"trackPrice\": 1.29,\n",
      "      \"releaseDate\": \"1994-05-10T12:00:00Z\",\n",
      "      \"collectionExplicitness\": \"notExplicit\",\n",
      "      \"trackExplicitness\": \"notExplicit\",\n",
      "      \"discCount\": 1,\n",
      "      \"discNumber\": 1,\n",
      "      \"trackCount\": 10,\n",
      "      \"trackNumber\": 7,\n",
      "      \"trackTimeMillis\": 258853,\n",
      "      \"country\": \"USA\",\n",
      "      \"currency\": \"USD\",\n",
      "      \"primaryGenreName\": \"Rock\",\n",
      "      \"isStreamable\": true\n",
      "    },\n",
      "    {\n",
      "      \"wrapperType\": \"track\",\n",
      "      \"kind\": \"song\",\n",
      "      \"artistId\": 115234,\n",
      "      \"collectionId\": 1440878798,\n",
      "      \"trackId\": 1440879332,\n",
      "      \"artistName\": \"Weezer\",\n",
      "      \"collectionName\": \"Weezer\",\n",
      "      \"trackName\": \"Undone - The Sweater Song\",\n",
      "      \"collectionCensoredName\": \"Weezer\",\n",
      "      \"trackCensoredName\": \"Undone - The Sweater Song\",\n",
      "      \"artistViewUrl\": \"https://music.apple.com/us/artist/weezer/115234?uo=4\",\n",
      "      \"collectionViewUrl\": \"https://music.apple.com/us/album/undone-the-sweater-song/1440878798?i=1440879332&uo=4\",\n",
      "      \"trackViewUrl\": \"https://music.apple.com/us/album/undone-the-sweater-song/1440878798?i=1440879332&uo=4\",\n",
      "      \"previewUrl\": \"https://audio-ssl.itunes.apple.com/itunes-assets/AudioPreview221/v4/33/69/e2/3369e22d-32fe-3d85-7702-107e25fca82b/mzaf_16796572868702604469.plus.aac.p.m4a\",\n",
      "      \"artworkUrl30\": \"https://is1-ssl.mzstatic.com/image/thumb/Music221/v4/d0/16/da/d016da24-577e-b584-3a5a-116efb5ca362/16UMGIM52971.rgb.jpg/30x30bb.jpg\",\n",
      "      \"artworkUrl60\": \"https://is1-ssl.mzstatic.com/image/thumb/Music221/v4/d0/16/da/d016da24-577e-b584-3a5a-116efb5ca362/16UMGIM52971.rgb.jpg/60x60bb.jpg\",\n",
      "      \"artworkUrl100\": \"https://is1-ssl.mzstatic.com/image/thumb/Music221/v4/d0/16/da/d016da24-577e-b584-3a5a-116efb5ca362/16UMGIM52971.rgb.jpg/100x100bb.jpg\",\n",
      "      \"collectionPrice\": 10.99,\n",
      "      \"trackPrice\": 1.29,\n",
      "      \"releaseDate\": \"1994-05-10T12:00:00Z\",\n",
      "      \"collectionExplicitness\": \"notExplicit\",\n",
      "      \"trackExplicitness\": \"notExplicit\",\n",
      "      \"discCount\": 1,\n",
      "      \"discNumber\": 1,\n",
      "      \"trackCount\": 10,\n",
      "      \"trackNumber\": 5,\n",
      "      \"trackTimeMillis\": 304987,\n",
      "      \"country\": \"USA\",\n",
      "      \"currency\": \"USD\",\n",
      "      \"primaryGenreName\": \"Pop\",\n",
      "      \"isStreamable\": true\n",
      "    },\n",
      "    {\n",
      "      \"wrapperType\": \"track\",\n",
      "      \"kind\": \"song\",\n",
      "      \"artistId\": 115234,\n",
      "      \"collectionId\": 1440878798,\n",
      "      \"trackId\": 1440879114,\n",
      "      \"artistName\": \"Weezer\",\n",
      "      \"collectionName\": \"Weezer\",\n",
      "      \"trackName\": \"My Name Is Jonas\",\n",
      "      \"collectionCensoredName\": \"Weezer\",\n",
      "      \"trackCensoredName\": \"My Name Is Jonas\",\n",
      "      \"artistViewUrl\": \"https://music.apple.com/us/artist/weezer/115234?uo=4\",\n",
      "      \"collectionViewUrl\": \"https://music.apple.com/us/album/my-name-is-jonas/1440878798?i=1440879114&uo=4\",\n",
      "      \"trackViewUrl\": \"https://music.apple.com/us/album/my-name-is-jonas/1440878798?i=1440879114&uo=4\",\n",
      "      \"previewUrl\": \"https://audio-ssl.itunes.apple.com/itunes-assets/AudioPreview221/v4/a4/ff/1a/a4ff1a00-61ac-f69a-63da-2469a691c49c/mzaf_1922604468589484661.plus.aac.p.m4a\",\n",
      "      \"artworkUrl30\": \"https://is1-ssl.mzstatic.com/image/thumb/Music221/v4/d0/16/da/d016da24-577e-b584-3a5a-116efb5ca362/16UMGIM52971.rgb.jpg/30x30bb.jpg\",\n",
      "      \"artworkUrl60\": \"https://is1-ssl.mzstatic.com/image/thumb/Music221/v4/d0/16/da/d016da24-577e-b584-3a5a-116efb5ca362/16UMGIM52971.rgb.jpg/60x60bb.jpg\",\n",
      "      \"artworkUrl100\": \"https://is1-ssl.mzstatic.com/image/thumb/Music221/v4/d0/16/da/d016da24-577e-b584-3a5a-116efb5ca362/16UMGIM52971.rgb.jpg/100x100bb.jpg\",\n",
      "      \"collectionPrice\": 10.99,\n",
      "      \"trackPrice\": 1.29,\n",
      "      \"releaseDate\": \"1994-05-10T12:00:00Z\",\n",
      "      \"collectionExplicitness\": \"notExplicit\",\n",
      "      \"trackExplicitness\": \"notExplicit\",\n",
      "      \"discCount\": 1,\n",
      "      \"discNumber\": 1,\n",
      "      \"trackCount\": 10,\n",
      "      \"trackNumber\": 1,\n",
      "      \"trackTimeMillis\": 203960,\n",
      "      \"country\": \"USA\",\n",
      "      \"currency\": \"USD\",\n",
      "      \"primaryGenreName\": \"Pop\",\n",
      "      \"isStreamable\": true\n",
      "    },\n",
      "    {\n",
      "      \"wrapperType\": \"track\",\n",
      "      \"kind\": \"song\",\n",
      "      \"artistId\": 115234,\n",
      "      \"collectionId\": 1440878798,\n",
      "      \"trackId\": 1440879553,\n",
      "      \"artistName\": \"Weezer\",\n",
      "      \"collectionName\": \"Weezer\",\n",
      "      \"trackName\": \"Holiday\",\n",
      "      \"collectionCensoredName\": \"Weezer\",\n",
      "      \"trackCensoredName\": \"Holiday\",\n",
      "      \"artistViewUrl\": \"https://music.apple.com/us/artist/weezer/115234?uo=4\",\n",
      "      \"collectionViewUrl\": \"https://music.apple.com/us/album/holiday/1440878798?i=1440879553&uo=4\",\n",
      "      \"trackViewUrl\": \"https://music.apple.com/us/album/holiday/1440878798?i=1440879553&uo=4\",\n",
      "      \"previewUrl\": \"https://audio-ssl.itunes.apple.com/itunes-assets/AudioPreview211/v4/8a/14/81/8a1481d2-214d-182e-56b9-944a9107c042/mzaf_4646446297941321770.plus.aac.p.m4a\",\n",
      "      \"artworkUrl30\": \"https://is1-ssl.mzstatic.com/image/thumb/Music221/v4/d0/16/da/d016da24-577e-b584-3a5a-116efb5ca362/16UMGIM52971.rgb.jpg/30x30bb.jpg\",\n",
      "      \"artworkUrl60\": \"https://is1-ssl.mzstatic.com/image/thumb/Music221/v4/d0/16/da/d016da24-577e-b584-3a5a-116efb5ca362/16UMGIM52971.rgb.jpg/60x60bb.jpg\",\n",
      "      \"artworkUrl100\": \"https://is1-ssl.mzstatic.com/image/thumb/Music221/v4/d0/16/da/d016da24-577e-b584-3a5a-116efb5ca362/16UMGIM52971.rgb.jpg/100x100bb.jpg\",\n",
      "      \"collectionPrice\": 10.99,\n",
      "      \"trackPrice\": 1.29,\n",
      "      \"releaseDate\": \"1994-05-10T12:00:00Z\",\n",
      "      \"collectionExplicitness\": \"notExplicit\",\n",
      "      \"trackExplicitness\": \"notExplicit\",\n",
      "      \"discCount\": 1,\n",
      "      \"discNumber\": 1,\n",
      "      \"trackCount\": 10,\n",
      "      \"trackNumber\": 9,\n",
      "      \"trackTimeMillis\": 204907,\n",
      "      \"country\": \"USA\",\n",
      "      \"currency\": \"USD\",\n",
      "      \"primaryGenreName\": \"Pop\",\n",
      "      \"isStreamable\": true\n",
      "    },\n",
      "    {\n",
      "      \"wrapperType\": \"track\",\n",
      "      \"kind\": \"song\",\n",
      "      \"artistId\": 115234,\n",
      "      \"collectionId\": 1440878798,\n",
      "      \"trackId\": 1440879333,\n",
      "      \"artistName\": \"Weezer\",\n",
      "      \"collectionName\": \"Weezer\",\n",
      "      \"trackName\": \"Surf Wax America\",\n",
      "      \"collectionCensoredName\": \"Weezer\",\n",
      "      \"trackCensoredName\": \"Surf Wax America\",\n",
      "      \"artistViewUrl\": \"https://music.apple.com/us/artist/weezer/115234?uo=4\",\n",
      "      \"collectionViewUrl\": \"https://music.apple.com/us/album/surf-wax-america/1440878798?i=1440879333&uo=4\",\n",
      "      \"trackViewUrl\": \"https://music.apple.com/us/album/surf-wax-america/1440878798?i=1440879333&uo=4\",\n",
      "      \"previewUrl\": \"https://audio-ssl.itunes.apple.com/itunes-assets/AudioPreview211/v4/97/e8/12/97e81280-14bd-0a6b-5ddf-5ba8dcf0e5a6/mzaf_13666661560875053361.plus.aac.p.m4a\",\n",
      "      \"artworkUrl30\": \"https://is1-ssl.mzstatic.com/image/thumb/Music221/v4/d0/16/da/d016da24-577e-b584-3a5a-116efb5ca362/16UMGIM52971.rgb.jpg/30x30bb.jpg\",\n",
      "      \"artworkUrl60\": \"https://is1-ssl.mzstatic.com/image/thumb/Music221/v4/d0/16/da/d016da24-577e-b584-3a5a-116efb5ca362/16UMGIM52971.rgb.jpg/60x60bb.jpg\",\n",
      "      \"artworkUrl100\": \"https://is1-ssl.mzstatic.com/image/thumb/Music221/v4/d0/16/da/d016da24-577e-b584-3a5a-116efb5ca362/16UMGIM52971.rgb.jpg/100x100bb.jpg\",\n",
      "      \"collectionPrice\": 10.99,\n",
      "      \"trackPrice\": 1.29,\n",
      "      \"releaseDate\": \"1994-05-10T12:00:00Z\",\n",
      "      \"collectionExplicitness\": \"notExplicit\",\n",
      "      \"trackExplicitness\": \"notExplicit\",\n",
      "      \"discCount\": 1,\n",
      "      \"discNumber\": 1,\n",
      "      \"trackCount\": 10,\n",
      "      \"trackNumber\": 6,\n",
      "      \"trackTimeMillis\": 186213,\n",
      "      \"country\": \"USA\",\n",
      "      \"currency\": \"USD\",\n",
      "      \"primaryGenreName\": \"Pop\",\n",
      "      \"isStreamable\": true\n",
      "    },\n",
      "    {\n",
      "      \"wrapperType\": \"track\",\n",
      "      \"kind\": \"song\",\n",
      "      \"artistId\": 115234,\n",
      "      \"collectionId\": 1440878798,\n",
      "      \"trackId\": 1440879317,\n",
      "      \"artistName\": \"Weezer\",\n",
      "      \"collectionName\": \"Weezer\",\n",
      "      \"trackName\": \"The World Has Turned and Left Me Here\",\n",
      "      \"collectionCensoredName\": \"Weezer\",\n",
      "      \"trackCensoredName\": \"The World Has Turned and Left Me Here\",\n",
      "      \"artistViewUrl\": \"https://music.apple.com/us/artist/weezer/115234?uo=4\",\n",
      "      \"collectionViewUrl\": \"https://music.apple.com/us/album/the-world-has-turned-and-left-me-here/1440878798?i=1440879317&uo=4\",\n",
      "      \"trackViewUrl\": \"https://music.apple.com/us/album/the-world-has-turned-and-left-me-here/1440878798?i=1440879317&uo=4\",\n",
      "      \"previewUrl\": \"https://audio-ssl.itunes.apple.com/itunes-assets/AudioPreview221/v4/1a/b9/bc/1ab9bc47-2a78-0acb-5cec-fc59bf38e51d/mzaf_7351479855935617603.plus.aac.p.m4a\",\n",
      "      \"artworkUrl30\": \"https://is1-ssl.mzstatic.com/image/thumb/Music221/v4/d0/16/da/d016da24-577e-b584-3a5a-116efb5ca362/16UMGIM52971.rgb.jpg/30x30bb.jpg\",\n",
      "      \"artworkUrl60\": \"https://is1-ssl.mzstatic.com/image/thumb/Music221/v4/d0/16/da/d016da24-577e-b584-3a5a-116efb5ca362/16UMGIM52971.rgb.jpg/60x60bb.jpg\",\n",
      "      \"artworkUrl100\": \"https://is1-ssl.mzstatic.com/image/thumb/Music221/v4/d0/16/da/d016da24-577e-b584-3a5a-116efb5ca362/16UMGIM52971.rgb.jpg/100x100bb.jpg\",\n",
      "      \"collectionPrice\": 10.99,\n",
      "      \"trackPrice\": 1.29,\n",
      "      \"releaseDate\": \"1994-05-10T12:00:00Z\",\n",
      "      \"collectionExplicitness\": \"notExplicit\",\n",
      "      \"trackExplicitness\": \"notExplicit\",\n",
      "      \"discCount\": 1,\n",
      "      \"discNumber\": 1,\n",
      "      \"trackCount\": 10,\n",
      "      \"trackNumber\": 3,\n",
      "      \"trackTimeMillis\": 258373,\n",
      "      \"country\": \"USA\",\n",
      "      \"currency\": \"USD\",\n",
      "      \"primaryGenreName\": \"Pop\",\n",
      "      \"isStreamable\": true\n",
      "    },\n",
      "    {\n",
      "      \"wrapperType\": \"track\",\n",
      "      \"kind\": \"song\",\n",
      "      \"artistId\": 115234,\n",
      "      \"collectionId\": 1440878798,\n",
      "      \"trackId\": 1440879555,\n",
      "      \"artistName\": \"Weezer\",\n",
      "      \"collectionName\": \"Weezer\",\n",
      "      \"trackName\": \"Only in Dreams\",\n",
      "      \"collectionCensoredName\": \"Weezer\",\n",
      "      \"trackCensoredName\": \"Only in Dreams\",\n",
      "      \"artistViewUrl\": \"https://music.apple.com/us/artist/weezer/115234?uo=4\",\n",
      "      \"collectionViewUrl\": \"https://music.apple.com/us/album/only-in-dreams/1440878798?i=1440879555&uo=4\",\n",
      "      \"trackViewUrl\": \"https://music.apple.com/us/album/only-in-dreams/1440878798?i=1440879555&uo=4\",\n",
      "      \"previewUrl\": \"https://audio-ssl.itunes.apple.com/itunes-assets/AudioPreview211/v4/56/37/6c/56376cdd-ab8d-ac1a-2b74-0d00db8fa0c3/mzaf_1802644543611529726.plus.aac.p.m4a\",\n",
      "      \"artworkUrl30\": \"https://is1-ssl.mzstatic.com/image/thumb/Music221/v4/d0/16/da/d016da24-577e-b584-3a5a-116efb5ca362/16UMGIM52971.rgb.jpg/30x30bb.jpg\",\n",
      "      \"artworkUrl60\": \"https://is1-ssl.mzstatic.com/image/thumb/Music221/v4/d0/16/da/d016da24-577e-b584-3a5a-116efb5ca362/16UMGIM52971.rgb.jpg/60x60bb.jpg\",\n",
      "      \"artworkUrl100\": \"https://is1-ssl.mzstatic.com/image/thumb/Music221/v4/d0/16/da/d016da24-577e-b584-3a5a-116efb5ca362/16UMGIM52971.rgb.jpg/100x100bb.jpg\",\n",
      "      \"collectionPrice\": 10.99,\n",
      "      \"trackPrice\": 1.29,\n",
      "      \"releaseDate\": \"1994-05-10T12:00:00Z\",\n",
      "      \"collectionExplicitness\": \"notExplicit\",\n",
      "      \"trackExplicitness\": \"notExplicit\",\n",
      "      \"discCount\": 1,\n",
      "      \"discNumber\": 1,\n",
      "      \"trackCount\": 10,\n",
      "      \"trackNumber\": 10,\n",
      "      \"trackTimeMillis\": 479360,\n",
      "      \"country\": \"USA\",\n",
      "      \"currency\": \"USD\",\n",
      "      \"primaryGenreName\": \"Pop\",\n",
      "      \"isStreamable\": true\n",
      "    },\n",
      "    {\n",
      "      \"wrapperType\": \"track\",\n",
      "      \"kind\": \"song\",\n",
      "      \"artistId\": 6908894,\n",
      "      \"collectionId\": 397750231,\n",
      "      \"trackId\": 397750390,\n",
      "      \"artistName\": \"Logistics\",\n",
      "      \"collectionName\": \"Spacejams\",\n",
      "      \"trackName\": \"Weezer\",\n",
      "      \"collectionCensoredName\": \"Spacejams\",\n",
      "      \"trackCensoredName\": \"Weezer\",\n",
      "      \"artistViewUrl\": \"https://music.apple.com/us/artist/logistics/6908894?uo=4\",\n",
      "      \"collectionViewUrl\": \"https://music.apple.com/us/album/weezer/397750231?i=397750390&uo=4\",\n",
      "      \"trackViewUrl\": \"https://music.apple.com/us/album/weezer/397750231?i=397750390&uo=4\",\n",
      "      \"previewUrl\": \"https://audio-ssl.itunes.apple.com/itunes-assets/AudioPreview125/v4/94/40/4a/94404aff-b1ce-520e-d7a6-8421137e699a/mzaf_9822162486127907614.plus.aac.p.m4a\",\n",
      "      \"artworkUrl30\": \"https://is1-ssl.mzstatic.com/image/thumb/Music/b8/2e/fa/mzi.slyfzlou.jpg/30x30bb.jpg\",\n",
      "      \"artworkUrl60\": \"https://is1-ssl.mzstatic.com/image/thumb/Music/b8/2e/fa/mzi.slyfzlou.jpg/60x60bb.jpg\",\n",
      "      \"artworkUrl100\": \"https://is1-ssl.mzstatic.com/image/thumb/Music/b8/2e/fa/mzi.slyfzlou.jpg/100x100bb.jpg\",\n",
      "      \"collectionPrice\": 6.99,\n",
      "      \"trackPrice\": 0.99,\n",
      "      \"releaseDate\": \"2010-11-14T12:00:00Z\",\n",
      "      \"collectionExplicitness\": \"notExplicit\",\n",
      "      \"trackExplicitness\": \"notExplicit\",\n",
      "      \"discCount\": 1,\n",
      "      \"discNumber\": 1,\n",
      "      \"trackCount\": 20,\n",
      "      \"trackNumber\": 16,\n",
      "      \"trackTimeMillis\": 315002,\n",
      "      \"country\": \"USA\",\n",
      "      \"currency\": \"USD\",\n",
      "      \"primaryGenreName\": \"Dance\",\n",
      "      \"isStreamable\": true\n",
      "    },\n",
      "    {\n",
      "      \"wrapperType\": \"track\",\n",
      "      \"kind\": \"song\",\n",
      "      \"artistId\": 115234,\n",
      "      \"collectionId\": 1440878798,\n",
      "      \"trackId\": 1440879552,\n",
      "      \"artistName\": \"Weezer\",\n",
      "      \"collectionName\": \"Weezer\",\n",
      "      \"trackName\": \"In the Garage\",\n",
      "      \"collectionCensoredName\": \"Weezer\",\n",
      "      \"trackCensoredName\": \"In the Garage\",\n",
      "      \"artistViewUrl\": \"https://music.apple.com/us/artist/weezer/115234?uo=4\",\n",
      "      \"collectionViewUrl\": \"https://music.apple.com/us/album/in-the-garage/1440878798?i=1440879552&uo=4\",\n",
      "      \"trackViewUrl\": \"https://music.apple.com/us/album/in-the-garage/1440878798?i=1440879552&uo=4\",\n",
      "      \"previewUrl\": \"https://audio-ssl.itunes.apple.com/itunes-assets/AudioPreview211/v4/cf/22/4a/cf224af9-592b-a630-610e-7597935df1b1/mzaf_5253927144240219874.plus.aac.p.m4a\",\n",
      "      \"artworkUrl30\": \"https://is1-ssl.mzstatic.com/image/thumb/Music221/v4/d0/16/da/d016da24-577e-b584-3a5a-116efb5ca362/16UMGIM52971.rgb.jpg/30x30bb.jpg\",\n",
      "      \"artworkUrl60\": \"https://is1-ssl.mzstatic.com/image/thumb/Music221/v4/d0/16/da/d016da24-577e-b584-3a5a-116efb5ca362/16UMGIM52971.rgb.jpg/60x60bb.jpg\",\n",
      "      \"artworkUrl100\": \"https://is1-ssl.mzstatic.com/image/thumb/Music221/v4/d0/16/da/d016da24-577e-b584-3a5a-116efb5ca362/16UMGIM52971.rgb.jpg/100x100bb.jpg\",\n",
      "      \"collectionPrice\": 10.99,\n",
      "      \"trackPrice\": 1.29,\n",
      "      \"releaseDate\": \"1994-05-10T12:00:00Z\",\n",
      "      \"collectionExplicitness\": \"notExplicit\",\n",
      "      \"trackExplicitness\": \"notExplicit\",\n",
      "      \"discCount\": 1,\n",
      "      \"discNumber\": 1,\n",
      "      \"trackCount\": 10,\n",
      "      \"trackNumber\": 8,\n",
      "      \"trackTimeMillis\": 235973,\n",
      "      \"country\": \"USA\",\n",
      "      \"currency\": \"USD\",\n",
      "      \"primaryGenreName\": \"Pop\",\n",
      "      \"isStreamable\": true\n",
      "    }\n",
      "  ]\n",
      "}\n"
     ]
    }
   ],
   "source": [
    "if len(sys.argv) !=2:\n",
    "    sys.exit()\n",
    "response =requests.get(\"https://itunes.apple.com/search?entity=song&limit=10&term=weezer\")\n",
    "\n",
    "print(json.dumps(response.json(),indent=2))"
   ]
  },
  {
   "cell_type": "code",
   "execution_count": 74,
   "metadata": {},
   "outputs": [
    {
     "name": "stdout",
     "output_type": "stream",
     "text": [
      "Buddy Holly\n",
      "Say It Ain't So\n",
      "Undone - The Sweater Song\n",
      "My Name Is Jonas\n",
      "Holiday\n",
      "Surf Wax America\n",
      "The World Has Turned and Left Me Here\n",
      "Only in Dreams\n",
      "Weezer\n",
      "In the Garage\n"
     ]
    }
   ],
   "source": [
    "o=response.json()\n",
    "for result in o[\"results\"]:\n",
    "    print(result[\"trackName\"])"
   ]
  },
  {
   "cell_type": "markdown",
   "metadata": {},
   "source": [
    "# Custom Libraries"
   ]
  },
  {
   "cell_type": "markdown",
   "metadata": {},
   "source": [
    "code sayings.py"
   ]
  },
  {
   "cell_type": "code",
   "execution_count": 76,
   "metadata": {},
   "outputs": [
    {
     "name": "stdout",
     "output_type": "stream",
     "text": [
      "Hello, Amro\n",
      "Goodbye, Amro\n"
     ]
    }
   ],
   "source": [
    "def main():\n",
    "    hello(\"Amro\")\n",
    "    goodbye(\"Amro\")\n",
    "\n",
    "def hello(name):\n",
    "    print(f\"Hello, {name}\")\n",
    "\n",
    "def goodbye(name):\n",
    "    print(f\"Goodbye, {name}\")\n",
    "if __name__ == \"__main__\": # we don't want to call it if we are in another file\n",
    "    main()"
   ]
  },
  {
   "cell_type": "markdown",
   "metadata": {},
   "source": [
    "code say.py"
   ]
  },
  {
   "cell_type": "code",
   "execution_count": null,
   "metadata": {},
   "outputs": [],
   "source": []
  },
  {
   "cell_type": "code",
   "execution_count": 78,
   "metadata": {},
   "outputs": [
    {
     "ename": "ModuleNotFoundError",
     "evalue": "No module named 'sayings'",
     "output_type": "error",
     "traceback": [
      "\u001b[1;31m---------------------------------------------------------------------------\u001b[0m",
      "\u001b[1;31mModuleNotFoundError\u001b[0m                       Traceback (most recent call last)",
      "Cell \u001b[1;32mIn[78], line 2\u001b[0m\n\u001b[0;32m      1\u001b[0m \u001b[38;5;28;01mimport\u001b[39;00m \u001b[38;5;21;01msys\u001b[39;00m\n\u001b[1;32m----> 2\u001b[0m \u001b[38;5;28;01mfrom\u001b[39;00m \u001b[38;5;21;01msayings\u001b[39;00m \u001b[38;5;28;01mimport\u001b[39;00m hello \u001b[38;5;66;03m# this will work if we use normal python not jupyter notebook\u001b[39;00m\n",
      "\u001b[1;31mModuleNotFoundError\u001b[0m: No module named 'sayings'"
     ]
    }
   ],
   "source": [
    "import sys\n",
    "from sayings import hello # this will work if we use normal python not jupyter notebook"
   ]
  },
  {
   "cell_type": "code",
   "execution_count": 80,
   "metadata": {},
   "outputs": [
    {
     "name": "stdout",
     "output_type": "stream",
     "text": [
      "Hello, --f=c:\\Users\\amroe\\AppData\\Roaming\\jupyter\\runtime\\kernel-v2-2168403L1fAbI0pa8.json\n"
     ]
    }
   ],
   "source": [
    "if len(sys.argv) ==2:\n",
    "    hello(sys.argv[1])"
   ]
  }
 ],
 "metadata": {
  "kernelspec": {
   "display_name": "Python 3",
   "language": "python",
   "name": "python3"
  },
  "language_info": {
   "codemirror_mode": {
    "name": "ipython",
    "version": 3
   },
   "file_extension": ".py",
   "mimetype": "text/x-python",
   "name": "python",
   "nbconvert_exporter": "python",
   "pygments_lexer": "ipython3",
   "version": "3.11.2"
  }
 },
 "nbformat": 4,
 "nbformat_minor": 2
}
