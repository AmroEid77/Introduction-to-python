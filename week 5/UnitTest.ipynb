{
 "cells": [
  {
   "cell_type": "markdown",
   "metadata": {},
   "source": [
    "# Unit Tests\n",
    "code calculator.py"
   ]
  },
  {
   "cell_type": "code",
   "execution_count": 2,
   "metadata": {},
   "outputs": [
    {
     "name": "stdout",
     "output_type": "stream",
     "text": [
      "x squared is 16\n"
     ]
    }
   ],
   "source": [
    "def main():\n",
    "    x=int(input(\"What's x?\"))\n",
    "    print(\"x squared is\",square(x))\n",
    "\n",
    "def square(n):\n",
    "    return n**2\n",
    "\n",
    "if __name__ == \"__main__\":\n",
    "    main()"
   ]
  },
  {
   "cell_type": "markdown",
   "metadata": {},
   "source": [
    "code test_calculator.py"
   ]
  },
  {
   "cell_type": "code",
   "execution_count": null,
   "metadata": {},
   "outputs": [],
   "source": [
    "from calculator import square"
   ]
  },
  {
   "cell_type": "markdown",
   "metadata": {},
   "source": [
    "# assert\n",
    "It means the something or the statement is true and will not get an error otherwise we got an error while doing the calculation in this example"
   ]
  },
  {
   "cell_type": "code",
   "execution_count": 13,
   "metadata": {},
   "outputs": [],
   "source": [
    "def main():\n",
    "    test_square()\n",
    "def test_square():\n",
    "    try:\n",
    "        assert square(5) == 25\n",
    "    except AssertionError:\n",
    "        print(\"Test failed! for 5 squared\")\n",
    "    try:\n",
    "        assert square(-3) == 9\n",
    "    except AssertionError:\n",
    "        print(\"Test failed! for -3 squared\")\n",
    "    try:\n",
    "        assert square(0) == 0\n",
    "    except AssertionError:\n",
    "        print(\"Test failed! for 0 squared\")\n",
    "    \n",
    "\n",
    "\n",
    "if __name__ == \"__main__\":\n",
    "    main()\n"
   ]
  },
  {
   "cell_type": "markdown",
   "metadata": {},
   "source": [
    "# pytest\n",
    " is a popular testing framework for Python that makes it easy to write simple and scalable test cases for your code. It is designed to be both powerful and flexible, allowing you to write a wide range of tests from simple unit tests to complex functional tests"
   ]
  },
  {
   "cell_type": "code",
   "execution_count": null,
   "metadata": {},
   "outputs": [],
   "source": [
    "def main():\n",
    "    test_square()\n",
    "def test_square():\n",
    "    assert square(5) == 25\n",
    "    assert square(-3) == 9\n",
    "    assert square(0) == 0\n",
    "    \n",
    "\n",
    "\n",
    "if __name__ == \"__main__\":\n",
    "    main()\n"
   ]
  },
  {
   "cell_type": "markdown",
   "metadata": {},
   "source": [
    "Instead of writing python name.py \n",
    "write pytest name.py"
   ]
  },
  {
   "cell_type": "code",
   "execution_count": 14,
   "metadata": {},
   "outputs": [
    {
     "name": "stdout",
     "output_type": "stream",
     "text": [
      "Defaulting to user installation because normal site-packages is not writeable\n",
      "Collecting pytest\n",
      "  Obtaining dependency information for pytest from https://files.pythonhosted.org/packages/4e/e7/81ebdd666d3bff6670d27349b5053605d83d55548e6bd5711f3b0ae7dd23/pytest-8.2.2-py3-none-any.whl.metadata\n",
      "  Downloading pytest-8.2.2-py3-none-any.whl.metadata (7.6 kB)\n",
      "Collecting iniconfig (from pytest)\n",
      "  Obtaining dependency information for iniconfig from https://files.pythonhosted.org/packages/ef/a6/62565a6e1cf69e10f5727360368e451d4b7f58beeac6173dc9db836a5b46/iniconfig-2.0.0-py3-none-any.whl.metadata\n",
      "  Downloading iniconfig-2.0.0-py3-none-any.whl.metadata (2.6 kB)\n",
      "Requirement already satisfied: packaging in c:\\users\\amroe\\appdata\\roaming\\python\\python311\\site-packages (from pytest) (23.1)\n",
      "Collecting pluggy<2.0,>=1.5 (from pytest)\n",
      "  Obtaining dependency information for pluggy<2.0,>=1.5 from https://files.pythonhosted.org/packages/88/5f/e351af9a41f866ac3f1fac4ca0613908d9a41741cfcf2228f4ad853b697d/pluggy-1.5.0-py3-none-any.whl.metadata\n",
      "  Downloading pluggy-1.5.0-py3-none-any.whl.metadata (4.8 kB)\n",
      "Requirement already satisfied: colorama in c:\\users\\amroe\\appdata\\roaming\\python\\python311\\site-packages (from pytest) (0.4.6)\n",
      "Downloading pytest-8.2.2-py3-none-any.whl (339 kB)\n",
      "   ---------------------------------------- 0.0/339.9 kB ? eta -:--:--\n",
      "   --- ------------------------------------ 30.7/339.9 kB 1.3 MB/s eta 0:00:01\n",
      "   ------- ------------------------------- 61.4/339.9 kB 812.7 kB/s eta 0:00:01\n",
      "   ------------- -------------------------- 112.6/339.9 kB 1.1 MB/s eta 0:00:01\n",
      "   -------------------------- ------------- 225.3/339.9 kB 1.4 MB/s eta 0:00:01\n",
      "   ---------------------------------------  337.9/339.9 kB 1.6 MB/s eta 0:00:01\n",
      "   ---------------------------------------- 339.9/339.9 kB 1.6 MB/s eta 0:00:00\n",
      "Downloading pluggy-1.5.0-py3-none-any.whl (20 kB)\n",
      "Downloading iniconfig-2.0.0-py3-none-any.whl (5.9 kB)\n",
      "Installing collected packages: pluggy, iniconfig, pytest\n",
      "Successfully installed iniconfig-2.0.0 pluggy-1.5.0 pytest-8.2.2\n"
     ]
    },
    {
     "name": "stderr",
     "output_type": "stream",
     "text": [
      "\n",
      "[notice] A new release of pip is available: 23.2.1 -> 24.1.2\n",
      "[notice] To update, run: python.exe -m pip install --upgrade pip\n"
     ]
    }
   ],
   "source": [
    "!pip install pytest"
   ]
  },
  {
   "cell_type": "code",
   "execution_count": 20,
   "metadata": {},
   "outputs": [
    {
     "name": "stdout",
     "output_type": "stream",
     "text": [
      "\u001b[1m============================= test session starts =============================\u001b[0m\n",
      "platform win32 -- Python 3.11.2, pytest-8.2.2, pluggy-1.5.0 -- c:\\Program Files\\Python311\\python.exe\n",
      "cachedir: .pytest_cache\n",
      "rootdir: c:\\unversite files\\Harvard courses\\Introduction to python\\week 6\n",
      "\u001b[1mcollecting ... \u001b[0mcollected 0 items\n",
      "\n",
      "\u001b[33m============================ \u001b[33mno tests ran\u001b[0m\u001b[33m in 0.00s\u001b[0m\u001b[33m ============================\u001b[0m\n",
      "5\n"
     ]
    }
   ],
   "source": [
    "def add(x, y):\n",
    "    return x + y\n",
    "\n",
    "# Define test functions\n",
    "def test_add():\n",
    "    assert add(2, 3) == 5\n",
    "    assert add(-1, 1) == 0\n",
    "    assert add(0, 0) == 0\n",
    "\n",
    "def test_add_negative():\n",
    "    assert add(-1, -1) == -2\n",
    "    assert add(-1, -5) == -6\n",
    "\n",
    "# Run pytest and capture the output\n",
    "import pytest\n",
    "result = pytest.main([\"-v\"])\n",
    "\n",
    "# Print the result object to see more details\n",
    "print(result)"
   ]
  },
  {
   "cell_type": "markdown",
   "metadata": {},
   "source": [
    "# In python terminal will work better"
   ]
  },
  {
   "cell_type": "code",
   "execution_count": 24,
   "metadata": {},
   "outputs": [],
   "source": [
    "import pytest\n",
    "def main():\n",
    "    test_square()\n",
    "    test_str()\n",
    "def test_positive_square():\n",
    "    assert square(5) == 25\n",
    "def test_negative_square():\n",
    "    assert square(-3) == 9\n",
    "def test_zero_square():\n",
    "    assert square(0) == 0\n",
    "    \n",
    "def test_str():\n",
    "    with pytest.raises(TypeError):\n",
    "        square(\"hello\")\n",
    "\n",
    "if __name__ == \"__main__\":\n",
    "    main()\n"
   ]
  },
  {
   "cell_type": "markdown",
   "metadata": {},
   "source": [
    "# dont forget up to run pytest name.py"
   ]
  },
  {
   "cell_type": "markdown",
   "metadata": {},
   "source": [
    "--------------------------------------------------------------------------------"
   ]
  },
  {
   "cell_type": "markdown",
   "metadata": {},
   "source": [
    "code hello.py"
   ]
  },
  {
   "cell_type": "code",
   "execution_count": null,
   "metadata": {},
   "outputs": [],
   "source": [
    "def main():\n",
    "    name = input(\"What's your name? \")\n",
    "    print(hello(name))\n",
    "\n",
    "def hello(to=\"world\"):\n",
    "    return f\"hello,,{to}\"\n",
    "\n",
    "if __name__ == \"__main__\":\n",
    "    main()"
   ]
  },
  {
   "cell_type": "markdown",
   "metadata": {},
   "source": [
    "code test_hello.py"
   ]
  },
  {
   "cell_type": "code",
   "execution_count": null,
   "metadata": {},
   "outputs": [],
   "source": [
    "from hello import hello"
   ]
  },
  {
   "cell_type": "code",
   "execution_count": null,
   "metadata": {},
   "outputs": [],
   "source": [
    "def test_hello():\n",
    "    assert hello(\"David\") ==\"hello, David\"\n",
    "    assert hello() == \"hello, world\""
   ]
  },
  {
   "cell_type": "code",
   "execution_count": null,
   "metadata": {},
   "outputs": [],
   "source": [
    "def test_hello_with_argument():\n",
    "    assert hello(\"David\") ==\"hello, David\"\n",
    "def test_hello_with_default():\n",
    "    assert hello() == \"hello, world\"\n",
    "def my_test():\n",
    "    for name in [\"amro\",\"abdullah\",\"hossam\"]:\n",
    "        assert hello(name) == f\"hello, {name}\""
   ]
  },
  {
   "cell_type": "markdown",
   "metadata": {},
   "source": [
    "Now if we want to do the test in another folder"
   ]
  },
  {
   "cell_type": "markdown",
   "metadata": {},
   "source": [
    "mkdir test"
   ]
  },
  {
   "cell_type": "markdown",
   "metadata": {},
   "source": [
    "code test/test_hello.py"
   ]
  },
  {
   "cell_type": "markdown",
   "metadata": {},
   "source": [
    "code test/\\_\\_init\\_\\_.py"
   ]
  },
  {
   "cell_type": "code",
   "execution_count": 25,
   "metadata": {},
   "outputs": [],
   "source": [
    "from hello import hello\n",
    "def test_hello_with_argument():\n",
    "    assert hello(\"David\") ==\"hello, David\"\n",
    "def test_hello_with_default():\n",
    "    assert hello() == \"hello, world\"\n",
    "def my_test():\n",
    "    for name in [\"amro\",\"abdullah\",\"hossam\"]:\n",
    "        assert hello(name) == f\"hello, {name}\""
   ]
  },
  {
   "cell_type": "code",
   "execution_count": null,
   "metadata": {},
   "outputs": [],
   "source": []
  }
 ],
 "metadata": {
  "kernelspec": {
   "display_name": "Python 3",
   "language": "python",
   "name": "python3"
  },
  "language_info": {
   "codemirror_mode": {
    "name": "ipython",
    "version": 3
   },
   "file_extension": ".py",
   "mimetype": "text/x-python",
   "name": "python",
   "nbconvert_exporter": "python",
   "pygments_lexer": "ipython3",
   "version": "3.11.2"
  }
 },
 "nbformat": 4,
 "nbformat_minor": 2
}
