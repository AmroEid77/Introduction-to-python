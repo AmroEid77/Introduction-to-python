{
 "cells": [
  {
   "cell_type": "markdown",
   "metadata": {},
   "source": [
    "## File I/O\n"
   ]
  },
  {
   "cell_type": "markdown",
   "metadata": {},
   "source": [
    "# list\n"
   ]
  },
  {
   "cell_type": "code",
   "execution_count": 4,
   "metadata": {},
   "outputs": [
    {
     "name": "stdout",
     "output_type": "stream",
     "text": [
      "hello,abdullah\n",
      "hello,amro \n",
      "hello,baraa\n"
     ]
    }
   ],
   "source": [
    "names = []\n",
    "for _ in range(3):\n",
    "    names.append(input(\"What's your name?\"))\n",
    "for name in sorted(names):\n",
    "    print(f\"hello,{name}\")"
   ]
  },
  {
   "cell_type": "markdown",
   "metadata": {},
   "source": [
    "we have problem here when we try to write multiple name by run the code many times we end up with only one name\n",
    "because recreating teh file with brand new content\n"
   ]
  },
  {
   "cell_type": "code",
   "execution_count": 7,
   "metadata": {},
   "outputs": [],
   "source": [
    "name =input(\"What's your name?\")\n",
    "# open(namefile , w for write and r for read and a for append)\n",
    "file =open(\"names.txt\", \"w\")\n",
    "file.write(name)\n",
    "file.close()"
   ]
  },
  {
   "cell_type": "code",
   "execution_count": 13,
   "metadata": {},
   "outputs": [],
   "source": [
    "name =input(\"What's your name?\")\n",
    "# open(namefile , w for write and r for read and a for append)\n",
    "file =open(\"names.txt\", \"a\")\n",
    "file.write(f\"{name}\\n\")\n",
    "file.close()"
   ]
  },
  {
   "cell_type": "markdown",
   "metadata": {},
   "source": [
    "# with\n",
    "\n",
    "allow to specify in the this context I want to open adn automatically close some files\n"
   ]
  },
  {
   "cell_type": "code",
   "execution_count": 23,
   "metadata": {},
   "outputs": [],
   "source": [
    "name =input(\"What's your name?\")\n",
    "# open(namefile , w for write and r for read and a for append)\n",
    "with open(\"names.txt\", \"a\") as file :\n",
    "    file.write(f\"{name}\\n\")\n"
   ]
  },
  {
   "cell_type": "markdown",
   "metadata": {},
   "source": [
    "Now lets write the code to read from the file\n"
   ]
  },
  {
   "cell_type": "code",
   "execution_count": 18,
   "metadata": {},
   "outputs": [
    {
     "name": "stdout",
     "output_type": "stream",
     "text": [
      "<class 'str'>\n"
     ]
    }
   ],
   "source": [
    "file = open(\"names.txt\", \"r\")\n",
    "name =file.read()\n",
    "print(type (name))\n",
    "file.close()"
   ]
  },
  {
   "cell_type": "code",
   "execution_count": 25,
   "metadata": {},
   "outputs": [
    {
     "name": "stdout",
     "output_type": "stream",
     "text": [
      "hello,  amro\n",
      "hello ,  amro\n",
      "hello,  eid\n",
      "hello ,  eid\n"
     ]
    }
   ],
   "source": [
    "with open(\"names.txt\", \"r\") as file :\n",
    "    lines=file.readlines()\n",
    "\n",
    "for line in lines:\n",
    "    # remove the newline character from the end of the line\n",
    "    print(\"hello, \",line,end=\"\")\n",
    "    # or\n",
    "    print(\"hello , \",line.rstrip())"
   ]
  },
  {
   "cell_type": "code",
   "execution_count": 31,
   "metadata": {},
   "outputs": [
    {
     "name": "stdout",
     "output_type": "stream",
     "text": [
      "hello,  aaaa\n",
      "hello,  amro\n",
      "hello,  eid\n"
     ]
    }
   ],
   "source": [
    "with open(\"names.txt\", \"r\") as file :\n",
    "    for line in sorted(file):\n",
    "        print(\"hello, \",line.rstrip())"
   ]
  },
  {
   "cell_type": "code",
   "execution_count": 34,
   "metadata": {},
   "outputs": [
    {
     "name": "stdout",
     "output_type": "stream",
     "text": [
      "hello,  aaaa\n",
      "hello,  amro\n",
      "hello,  eid\n"
     ]
    }
   ],
   "source": [
    "names=[]\n",
    "with open(\"names.txt\", \"r\") as file :\n",
    "    for line in file:\n",
    "        names.append(line.rstrip())\n",
    "\n",
    "for name in sorted(names):\n",
    "    print(\"hello, \",name)"
   ]
  },
  {
   "cell_type": "markdown",
   "metadata": {},
   "source": [
    "# sorted(iterable,/,*,key=None,reverse=false)"
   ]
  },
  {
   "cell_type": "code",
   "execution_count": 35,
   "metadata": {},
   "outputs": [
    {
     "name": "stdout",
     "output_type": "stream",
     "text": [
      "['a', 'b', 'c']\n",
      "['c', 'b', 'a']\n"
     ]
    }
   ],
   "source": [
    "names=[\"a\",\"c\",\"b\"]\n",
    "print(sorted(names,reverse=False))\n",
    "print(sorted(names,reverse=True))"
   ]
  },
  {
   "cell_type": "markdown",
   "metadata": {},
   "source": [
    "# Comma-Separated Values"
   ]
  },
  {
   "cell_type": "code",
   "execution_count": 37,
   "metadata": {},
   "outputs": [
    {
     "name": "stdout",
     "output_type": "stream",
     "text": [
      "amro is in burin\n",
      "eid is in nablus\n",
      "aaaa is in hebron\n"
     ]
    }
   ],
   "source": [
    "with open(\"student.csv\") as file :\n",
    "    for line in file:\n",
    "        student = line.strip().split(\",\")\n",
    "        #print(student)\n",
    "        print(f\"{student[0]} is in {student[1]}\")"
   ]
  },
  {
   "cell_type": "code",
   "execution_count": 41,
   "metadata": {},
   "outputs": [
    {
     "name": "stdout",
     "output_type": "stream",
     "text": [
      "amro is in burin\n",
      "eid is in nablus\n",
      "aaaa is in hebron\n"
     ]
    }
   ],
   "source": [
    "with open(\"student.csv\") as file :\n",
    "    for line in file:\n",
    "        name, house = line.strip().split(\",\")\n",
    "        #print(student)\n",
    "        print(f\"{name} is in {house}\")"
   ]
  },
  {
   "cell_type": "code",
   "execution_count": 42,
   "metadata": {},
   "outputs": [
    {
     "name": "stdout",
     "output_type": "stream",
     "text": [
      "aaaa is in hebron\n",
      "amro is in burin\n",
      "eid is in nablus\n"
     ]
    }
   ],
   "source": [
    "students= []\n",
    "with open(\"student.csv\") as file:\n",
    "    for line in file:\n",
    "        name, house = line.strip().split(\",\")\n",
    "        students.append((name, house))\n",
    "for name, house in sorted(students):\n",
    "    print(f\"{name} is in {house}\")"
   ]
  },
  {
   "cell_type": "code",
   "execution_count": 44,
   "metadata": {},
   "outputs": [
    {
     "name": "stdout",
     "output_type": "stream",
     "text": [
      "amro is in burin\n",
      "aaaa is in hebron\n",
      "eid is in nablus\n"
     ]
    }
   ],
   "source": [
    "students= []\n",
    "with open(\"student.csv\") as file:\n",
    "    for line in file:\n",
    "        name, house = line.strip().split(\",\")\n",
    "        student={}\n",
    "        student[\"name\"]=name\n",
    "        student[\"house\"]=house\n",
    "        students.append(student)\n",
    "\n",
    "for student in sorted(students):\n",
    "    print(f\"{student['name']} is in {student['house']}\")\n"
   ]
  },
  {
   "cell_type": "code",
   "execution_count": 48,
   "metadata": {},
   "outputs": [
    {
     "name": "stdout",
     "output_type": "stream",
     "text": [
      "aaaa is in hebron\n",
      "amro is in burin\n",
      "eid is in nablus\n"
     ]
    }
   ],
   "source": [
    "students= []\n",
    "with open(\"student.csv\") as file:\n",
    "    for line in file:\n",
    "        name, house = line.strip().split(\",\")\n",
    "        student={'name':name, 'house':house}\n",
    "        students.append(student)\n",
    "\n",
    "def get_name(student):\n",
    "    return student['name']\n",
    "def get_house(student):\n",
    "    return student['house']\n",
    "\n",
    "for student in sorted(students,key=get_name,reverse=True):\n",
    "    print(f\"{student['name']} is in {student['house']}\")\n"
   ]
  },
  {
   "cell_type": "markdown",
   "metadata": {},
   "source": [
    "# Lambda function\n",
    "lambda parameter 1 , parameter 2 , and so on : return value"
   ]
  },
  {
   "cell_type": "code",
   "execution_count": 49,
   "metadata": {},
   "outputs": [
    {
     "name": "stdout",
     "output_type": "stream",
     "text": [
      "eid is in nablus\n",
      "amro is in burin\n",
      "aaaa is in hebron\n"
     ]
    }
   ],
   "source": [
    "students= []\n",
    "with open(\"student.csv\") as file:\n",
    "    for line in file:\n",
    "        name, house = line.strip().split(\",\")\n",
    "        student={'name':name, 'house':house}\n",
    "        students.append(student)\n",
    "\n",
    "\n",
    "for student in sorted(students,key=lambda student:student[\"name\"],reverse=True):\n",
    "    print(f\"{student['name']} is in {student['house']}\")\n"
   ]
  },
  {
   "cell_type": "code",
   "execution_count": 50,
   "metadata": {},
   "outputs": [
    {
     "ename": "ValueError",
     "evalue": "too many values to unpack (expected 2)",
     "output_type": "error",
     "traceback": [
      "\u001b[1;31m---------------------------------------------------------------------------\u001b[0m",
      "\u001b[1;31mValueError\u001b[0m                                Traceback (most recent call last)",
      "Cell \u001b[1;32mIn[50], line 4\u001b[0m\n\u001b[0;32m      2\u001b[0m \u001b[38;5;28;01mwith\u001b[39;00m \u001b[38;5;28mopen\u001b[39m(\u001b[38;5;124m\"\u001b[39m\u001b[38;5;124mstudent.csv\u001b[39m\u001b[38;5;124m\"\u001b[39m) \u001b[38;5;28;01mas\u001b[39;00m file:\n\u001b[0;32m      3\u001b[0m     \u001b[38;5;28;01mfor\u001b[39;00m line \u001b[38;5;129;01min\u001b[39;00m file:\n\u001b[1;32m----> 4\u001b[0m         name, home \u001b[38;5;241m=\u001b[39m line\u001b[38;5;241m.\u001b[39mstrip()\u001b[38;5;241m.\u001b[39msplit(\u001b[38;5;124m\"\u001b[39m\u001b[38;5;124m,\u001b[39m\u001b[38;5;124m\"\u001b[39m)\n\u001b[0;32m      5\u001b[0m         student\u001b[38;5;241m=\u001b[39m{\u001b[38;5;124m'\u001b[39m\u001b[38;5;124mname\u001b[39m\u001b[38;5;124m'\u001b[39m:name, \u001b[38;5;124m'\u001b[39m\u001b[38;5;124mhome\u001b[39m\u001b[38;5;124m'\u001b[39m:home}\n\u001b[0;32m      6\u001b[0m         students\u001b[38;5;241m.\u001b[39mappend(student)\n",
      "\u001b[1;31mValueError\u001b[0m: too many values to unpack (expected 2)"
     ]
    }
   ],
   "source": [
    "students= []\n",
    "with open(\"student.csv\") as file:\n",
    "    for line in file:\n",
    "        name, home = line.strip().split(\",\") # we well get an error if we have 3 or more parameters in the same line\n",
    "        student={'name':name, 'home':home}\n",
    "        students.append(student)\n",
    "\n",
    "\n",
    "for student in sorted(students,key=lambda student:student[\"name\"],reverse=True):\n",
    "    print(f\"{student['name']} is in {student['home']}\")\n"
   ]
  },
  {
   "cell_type": "code",
   "execution_count": 51,
   "metadata": {},
   "outputs": [],
   "source": [
    "import csv"
   ]
  },
  {
   "cell_type": "markdown",
   "metadata": {},
   "source": [
    "reader return list"
   ]
  },
  {
   "cell_type": "code",
   "execution_count": 67,
   "metadata": {},
   "outputs": [
    {
     "name": "stdout",
     "output_type": "stream",
     "text": [
      "[['amro', 'burin nablus , yes'], ['eid', 'nablus'], ['aaaa', 'hebron']]\n"
     ]
    }
   ],
   "source": [
    "students= []\n",
    "with open(\"student.csv\") as file:\n",
    "    reader =csv.reader(file)\n",
    "    \n",
    "    for name, home in reader:\n",
    "\n",
    "        students.append({\"name\":name,\"home\":home})\n",
    "\n",
    "\n",
    "for student in sorted(students,key=lambda student:student[\"name\"],reverse=True):\n",
    "    print(f\"{student['name']} is from {student['home']}\")\n"
   ]
  },
  {
   "cell_type": "markdown",
   "metadata": {},
   "source": [
    "Now we will use dictReader and it's return dict\n",
    "* another point we need to care about once we deal with dictReader we need to specify the dict header I mean in  csv file\n",
    "there's header like name , home and all the data below it will follow the same pattern in the header"
   ]
  },
  {
   "cell_type": "code",
   "execution_count": 70,
   "metadata": {},
   "outputs": [
    {
     "name": "stdout",
     "output_type": "stream",
     "text": [
      "eid is from nablus\n",
      "amro is from burin nablus , yes\n",
      "aaaa is from hebron\n"
     ]
    }
   ],
   "source": [
    "students= []\n",
    "with open(\"students.csv\") as file:\n",
    "    reader =csv.DictReader(file)\n",
    "\n",
    "    for row in reader:\n",
    "\n",
    "        students.append({\"name\":row['name'],\"home\":row['home']})\n",
    "\n",
    "\n",
    "for student in sorted(students,key=lambda student:student[\"name\"],reverse=True):\n",
    "    print(f\"{student['name']} is from {student['home']}\")\n"
   ]
  },
  {
   "cell_type": "markdown",
   "metadata": {},
   "source": [
    "csv writer"
   ]
  },
  {
   "cell_type": "code",
   "execution_count": 76,
   "metadata": {},
   "outputs": [],
   "source": [
    "\n",
    "name=input(\"What's your name? \")\n",
    "home=input(\"Where's your home? \")\n",
    "\n",
    "with open(\"people.csv\",\"a\") as file:\n",
    "    writer =csv.writer(file)\n",
    "    writer.writerow([name,home])\n",
    "    \n",
    "\n",
    "\n"
   ]
  },
  {
   "cell_type": "code",
   "execution_count": 87,
   "metadata": {},
   "outputs": [],
   "source": [
    "import csv\n",
    "\n",
    "name = input(\"What's your name? \")\n",
    "home = input(\"Where's your home? \")\n",
    "\n",
    "with open(\"people.csv\", \"a\", newline='') as file:\n",
    "    writer = csv.DictWriter(file, fieldnames=[\"name\", \"home\"])\n",
    "    writer.writerow({\"name\": name, \"home\": home}) # The order of fields in the dictionary doesn't affect the CSV file\n"
   ]
  },
  {
   "cell_type": "markdown",
   "metadata": {},
   "source": [
    "# Images, PIL library"
   ]
  },
  {
   "cell_type": "code",
   "execution_count": 88,
   "metadata": {},
   "outputs": [
    {
     "name": "stdout",
     "output_type": "stream",
     "text": [
      "Defaulting to user installation because normal site-packages is not writeable\n"
     ]
    },
    {
     "name": "stderr",
     "output_type": "stream",
     "text": [
      "ERROR: Could not find a version that satisfies the requirement PIL (from versions: none)\n",
      "ERROR: No matching distribution found for PIL\n",
      "\n",
      "[notice] A new release of pip is available: 23.2.1 -> 24.1.2\n",
      "[notice] To update, run: python.exe -m pip install --upgrade pip\n"
     ]
    }
   ],
   "source": [
    "! pip install PIL"
   ]
  },
  {
   "cell_type": "code",
   "execution_count": 89,
   "metadata": {},
   "outputs": [],
   "source": [
    "import sys\n",
    "from PIL import Image"
   ]
  },
  {
   "cell_type": "code",
   "execution_count": 91,
   "metadata": {},
   "outputs": [
    {
     "ename": "OSError",
     "evalue": "[Errno 22] Invalid argument: '--f=c:\\\\Users\\\\amroe\\\\AppData\\\\Roaming\\\\jupyter\\\\runtime\\\\kernel-v2-1404rGF1yRmMBoxj.json'",
     "output_type": "error",
     "traceback": [
      "\u001b[1;31m---------------------------------------------------------------------------\u001b[0m",
      "\u001b[1;31mOSError\u001b[0m                                   Traceback (most recent call last)",
      "Cell \u001b[1;32mIn[91], line 3\u001b[0m\n\u001b[0;32m      1\u001b[0m images \u001b[38;5;241m=\u001b[39m[]\n\u001b[0;32m      2\u001b[0m \u001b[38;5;28;01mfor\u001b[39;00m arg \u001b[38;5;129;01min\u001b[39;00m sys\u001b[38;5;241m.\u001b[39margv[\u001b[38;5;241m1\u001b[39m:]:\n\u001b[1;32m----> 3\u001b[0m     image\u001b[38;5;241m=\u001b[39m\u001b[43mImage\u001b[49m\u001b[38;5;241;43m.\u001b[39;49m\u001b[43mopen\u001b[49m\u001b[43m(\u001b[49m\u001b[43marg\u001b[49m\u001b[43m)\u001b[49m\n\u001b[0;32m      4\u001b[0m     images\u001b[38;5;241m.\u001b[39mappend(image)\n\u001b[0;32m      6\u001b[0m images[\u001b[38;5;241m0\u001b[39m]\u001b[38;5;241m.\u001b[39msave(\n\u001b[0;32m      7\u001b[0m \u001b[38;5;124m\"\u001b[39m\u001b[38;5;124mcostumes.gif\u001b[39m\u001b[38;5;124m\"\u001b[39m,\n\u001b[0;32m      8\u001b[0m save_all\u001b[38;5;241m=\u001b[39m\u001b[38;5;28;01mTrue\u001b[39;00m,\n\u001b[0;32m      9\u001b[0m append_images\u001b[38;5;241m=\u001b[39m[images[\u001b[38;5;241m1\u001b[39m]], duration\u001b[38;5;241m=\u001b[39m\u001b[38;5;241m200\u001b[39m,loop\u001b[38;5;241m=\u001b[39m\u001b[38;5;241m0\u001b[39m\n\u001b[0;32m     10\u001b[0m \n\u001b[0;32m     11\u001b[0m )\n",
      "File \u001b[1;32m~\\AppData\\Roaming\\Python\\Python311\\site-packages\\PIL\\Image.py:3236\u001b[0m, in \u001b[0;36mopen\u001b[1;34m(fp, mode, formats)\u001b[0m\n\u001b[0;32m   3233\u001b[0m     filename \u001b[38;5;241m=\u001b[39m fp\n\u001b[0;32m   3235\u001b[0m \u001b[38;5;28;01mif\u001b[39;00m filename:\n\u001b[1;32m-> 3236\u001b[0m     fp \u001b[38;5;241m=\u001b[39m \u001b[43mbuiltins\u001b[49m\u001b[38;5;241;43m.\u001b[39;49m\u001b[43mopen\u001b[49m\u001b[43m(\u001b[49m\u001b[43mfilename\u001b[49m\u001b[43m,\u001b[49m\u001b[43m \u001b[49m\u001b[38;5;124;43m\"\u001b[39;49m\u001b[38;5;124;43mrb\u001b[39;49m\u001b[38;5;124;43m\"\u001b[39;49m\u001b[43m)\u001b[49m\n\u001b[0;32m   3237\u001b[0m     exclusive_fp \u001b[38;5;241m=\u001b[39m \u001b[38;5;28;01mTrue\u001b[39;00m\n\u001b[0;32m   3239\u001b[0m \u001b[38;5;28;01mtry\u001b[39;00m:\n",
      "\u001b[1;31mOSError\u001b[0m: [Errno 22] Invalid argument: '--f=c:\\\\Users\\\\amroe\\\\AppData\\\\Roaming\\\\jupyter\\\\runtime\\\\kernel-v2-1404rGF1yRmMBoxj.json'"
     ]
    }
   ],
   "source": [
    "images =[]\n",
    "for arg in sys.argv[1:]:\n",
    "    image=Image.open(arg)\n",
    "    images.append(image)\n",
    "\n",
    "images[0].save(\n",
    "\"costumes.gif\",\n",
    "save_all=True,\n",
    "append_images=[images[1]], duration=200,loop=0\n",
    "\n",
    ")"
   ]
  }
 ],
 "metadata": {
  "kernelspec": {
   "display_name": "Python 3",
   "language": "python",
   "name": "python3"
  },
  "language_info": {
   "codemirror_mode": {
    "name": "ipython",
    "version": 3
   },
   "file_extension": ".py",
   "mimetype": "text/x-python",
   "name": "python",
   "nbconvert_exporter": "python",
   "pygments_lexer": "ipython3",
   "version": "3.11.2"
  }
 },
 "nbformat": 4,
 "nbformat_minor": 2
}
