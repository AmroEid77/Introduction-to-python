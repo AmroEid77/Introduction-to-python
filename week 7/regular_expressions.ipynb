{
 "cells": [
  {
   "cell_type": "code",
   "execution_count": 4,
   "metadata": {},
   "outputs": [
    {
     "name": "stdout",
     "output_type": "stream",
     "text": [
      "Valid\n"
     ]
    }
   ],
   "source": [
    "email =input(\"What's your email address?\").strip()\n",
    "if \"@\" and \".\" in email:\n",
    "    print(\"Valid\")\n",
    "else:\n",
    "    print(\"Invalid\")\n"
   ]
  },
  {
   "cell_type": "code",
   "execution_count": 8,
   "metadata": {},
   "outputs": [
    {
     "name": "stdout",
     "output_type": "stream",
     "text": [
      "Valid\n"
     ]
    }
   ],
   "source": [
    "email =input(\"What's your email address?\").strip()\n",
    "username,domain=email.split(\"@\")\n",
    "if username:\n",
    "    \n",
    "    if \".\" in domain:\n",
    "        print(\"Valid\")\n",
    "    else:\n",
    "        print(\"Invalid\")\n",
    "else:\n",
    "    print(\"Invalid\")\n"
   ]
  },
  {
   "cell_type": "code",
   "execution_count": 10,
   "metadata": {},
   "outputs": [
    {
     "name": "stdout",
     "output_type": "stream",
     "text": [
      "Valid\n"
     ]
    }
   ],
   "source": [
    "email =input(\"What's your email address?\").strip()\n",
    "\n",
    "username,domain=email.split(\"@\")\n",
    "\n",
    "if username and domain.endswith(\".edu\"):\n",
    "    print(\"Valid\")\n",
    "else:\n",
    "    print(\"Invalid\")\n"
   ]
  },
  {
   "cell_type": "markdown",
   "metadata": {},
   "source": [
    "re stands for regular expression and it's library in python\n"
   ]
  },
  {
   "cell_type": "markdown",
   "metadata": {},
   "source": [
    "re.search(pattern,string,flags=0)\n",
    "a flag is like a parameter you can pass in to modify the behavior of the function\n"
   ]
  },
  {
   "cell_type": "code",
   "execution_count": 2,
   "metadata": {},
   "outputs": [],
   "source": [
    "import re"
   ]
  },
  {
   "cell_type": "code",
   "execution_count": 12,
   "metadata": {},
   "outputs": [
    {
     "name": "stdout",
     "output_type": "stream",
     "text": [
      "Valid\n"
     ]
    }
   ],
   "source": [
    "email =input(\"What's your email address?\").strip()\n",
    "\n",
    "if re.search(\"@\",email):\n",
    "    print(\"Valid\")\n",
    "else:\n",
    "    print(\"Invalid\")"
   ]
  },
  {
   "cell_type": "markdown",
   "metadata": {},
   "source": [
    "# Special Symbols in Regular Expressions:\n",
    "\n",
    "- .: Matches any character except a newline.\n",
    "- ^: Matches the start of the string.\n",
    "- $: Matches the end of the string.\n",
    "- \\*: Matches 0 or more repetitions of the preceding pattern.\n",
    "- +: Matches 1 or more repetitions of the preceding pattern.\n",
    "- ?: Matches 0 or 1 repetition of the preceding pattern (makes it optional).\n",
    "- {m}: Matches exactly m repetitions of the preceding pattern.\n",
    "- {m,n}: Matches between m and n repetitions of the preceding pattern.\n",
    "- [...]: Matches any one of the characters inside the brackets.\n",
    "- [^...]: Matches any character not inside the brackets.\n",
    "- |: Acts as an OR operator (e.g., a|b matches a or b).\n",
    "- (...): Groups patterns together and remembers the matched text.\n",
    "- \\: Escapes a special character (e.g., \\. matches a literal dot).\n",
    "- \\d: Matches any digit (equivalent to [0-9]).\n",
    "- \\D: Matches any non-digit.\n",
    "- \\w: Matches any alphanumeric character and underscore (equivalent to [a-zA-Z0-9_]).\n",
    "- \\W: Matches any non-word character.\n",
    "- \\s: Matches any whitespace character (space, tab, newline, etc.).\n",
    "- \\S: Matches any non-whitespace character.\n",
    "- \\b: Matches a word boundary.\n",
    "- \\B: Matches a non-word boundary.\n"
   ]
  },
  {
   "cell_type": "markdown",
   "metadata": {},
   "source": [
    "At this pattern we accept word followed by @ at least one then any word followed by at least . and ended by edu\n"
   ]
  },
  {
   "cell_type": "code",
   "execution_count": 29,
   "metadata": {},
   "outputs": [
    {
     "name": "stdout",
     "output_type": "stream",
     "text": [
      "Valid\n"
     ]
    }
   ],
   "source": [
    "email =input(\"What's your email address?\").strip()\n",
    "\n",
    "if re.search(r\".+@.+\\.edu\",email):# I add r to treat the backslash as raw string and to tell python do not interpret in usual way\n",
    "    print(\"Valid\")\n",
    "else:\n",
    "    print(\"Invalid\")"
   ]
  },
  {
   "cell_type": "code",
   "execution_count": 32,
   "metadata": {},
   "outputs": [
    {
     "name": "stdout",
     "output_type": "stream",
     "text": [
      "Invalid\n"
     ]
    }
   ],
   "source": [
    "email =input(\"What's your email address?\").strip()\n",
    "\n",
    "if re.search(r\"^.+@.+\\.edu$\",email):# I add r to treat the backslash as raw string and to tell python do not interpret in usual way\n",
    "    print(\"Valid\")\n",
    "else:\n",
    "    print(\"Invalid\")"
   ]
  },
  {
   "cell_type": "markdown",
   "metadata": {},
   "source": [
    "[^@] mean any character except any @\n"
   ]
  },
  {
   "cell_type": "code",
   "execution_count": null,
   "metadata": {},
   "outputs": [],
   "source": [
    "email =input(\"What's your email address?\").strip()\n",
    "\n",
    "if re.search(r\"^[^@]+@[^@]+\\.edu$\",email):# I add r to treat the backslash as raw string and to tell python do not interpret in usual way\n",
    "    print(\"Valid\")\n",
    "else:\n",
    "    print(\"Invalid\")"
   ]
  },
  {
   "cell_type": "code",
   "execution_count": null,
   "metadata": {},
   "outputs": [],
   "source": [
    "email =input(\"What's your email address?\").strip()\n",
    "\n",
    "if re.search(r\"^[a-zA-z0-9_]+@[a-zA-z0-9_]+\\.edu$\",email):\n",
    "    print(\"Valid\")\n",
    "else:\n",
    "    print(\"Invalid\")"
   ]
  },
  {
   "cell_type": "markdown",
   "metadata": {},
   "source": [
    "the above pattern same as this pattern\n"
   ]
  },
  {
   "cell_type": "code",
   "execution_count": null,
   "metadata": {},
   "outputs": [],
   "source": [
    "email =input(\"What's your email address?\").strip()\n",
    "\n",
    "if re.search(r\"^\\w+@\\w+\\.edu$\",email):\n",
    "    print(\"Valid\")\n",
    "else:\n",
    "    print(\"Invalid\")"
   ]
  },
  {
   "cell_type": "code",
   "execution_count": 3,
   "metadata": {},
   "outputs": [
    {
     "name": "stdout",
     "output_type": "stream",
     "text": [
      "Valid\n"
     ]
    }
   ],
   "source": [
    "email =input(\"What's your email address?\").strip()\n",
    "\n",
    "if re.search(r\"^\\w+@(\\w+\\.)?\\w+\\.(edu|com)$\",email,re.IGNORECASE):\n",
    "    print(\"Valid\")\n",
    "else:\n",
    "    print(\"Invalid\")"
   ]
  },
  {
   "cell_type": "markdown",
   "metadata": {},
   "source": [
    "- re.match(pattern,string,flags) but here you don't need to specify the ^ symbol\n",
    "- re.fullmatch(pattern,string,flags) but here you don't need to specify the ^ or $ symbols\n"
   ]
  },
  {
   "cell_type": "markdown",
   "metadata": {},
   "source": [
    "Now we will write the format code to remove the unnecessary or wrong inputs from the user like the form there's so many users write the email wrong and every submit form the user we save in the file to reformat the csv file as example we will use code\n"
   ]
  },
  {
   "cell_type": "code",
   "execution_count": 5,
   "metadata": {},
   "outputs": [
    {
     "name": "stdout",
     "output_type": "stream",
     "text": [
      "Hello, amro ,eid\n"
     ]
    }
   ],
   "source": [
    "name =input(\"What's your name?\").strip()\n",
    "print(f\"Hello, {name}\")"
   ]
  },
  {
   "cell_type": "code",
   "execution_count": 18,
   "metadata": {},
   "outputs": [
    {
     "name": "stdout",
     "output_type": "stream",
     "text": [
      "Hello, eid amro\n"
     ]
    }
   ],
   "source": [
    "name =input(\"What's your name?\").strip()\n",
    "\n",
    "matches=re.search(r\"^(.+), *(.+)$\",name)\n",
    "if matches:\n",
    "    # last , first =matches.groups()\n",
    "    # last = matches.groups(1) # the pattern ^(.+)\n",
    "    # first = matches.groups(2) # the pattern (.+)$\n",
    "    # name =f\"{first} {last}\"\n",
    "    name = f\"{matches.group(2)} {matches.group(1)}\"\n",
    "\n",
    "print(f\"Hello, {name}\")"
   ]
  },
  {
   "cell_type": "markdown",
   "metadata": {},
   "source": [
    ":= this new in python mean if and only if\n",
    "\n",
    "- I assign a value as I'm doing from the right to left , and ask a Boolean question\n"
   ]
  },
  {
   "cell_type": "code",
   "execution_count": null,
   "metadata": {},
   "outputs": [],
   "source": [
    "name =input(\"What's your name?\").strip()\n",
    "\n",
    "\n",
    "if matches:=re.search(r\"^(.+), *(.+)$\",name):\n",
    "    name = f\"{matches.group(2)} {matches.group(1)}\"\n",
    "\n",
    "print(f\"Hello, {name}\")"
   ]
  },
  {
   "cell_type": "markdown",
   "metadata": {},
   "source": [
    "code twitter.py\n"
   ]
  },
  {
   "cell_type": "code",
   "execution_count": 23,
   "metadata": {},
   "outputs": [
    {
     "name": "stdout",
     "output_type": "stream",
     "text": [
      "https:://amroied.com\n"
     ]
    }
   ],
   "source": [
    "url =input(\"URL: \").strip()\n",
    "if matches:=re.search(r\"^(https:://|http::// )\",url):\n",
    "    print(url)\n"
   ]
  },
  {
   "cell_type": "code",
   "execution_count": 24,
   "metadata": {},
   "outputs": [
    {
     "name": "stdout",
     "output_type": "stream",
     "text": [
      "amro\n"
     ]
    }
   ],
   "source": [
    "url =input(\"URL: \").strip()\n",
    "\n",
    "username=url.replace(\"https://twitter.com/\",\"\") # if I input like this : my username is https://twitter.com/amroeid\n",
    "print(username)# my username is amroeid\n"
   ]
  },
  {
   "cell_type": "code",
   "execution_count": 26,
   "metadata": {},
   "outputs": [
    {
     "name": "stdout",
     "output_type": "stream",
     "text": [
      "jsdfdsa https://twitter.com/amro eid\n"
     ]
    }
   ],
   "source": [
    "url =input(\"URL: \").strip()\n",
    "\n",
    "username=url.removeprefix(\"https://twitter.com/\")\n",
    "print(username)\n"
   ]
  },
  {
   "cell_type": "markdown",
   "metadata": {},
   "source": [
    "re.sub(pattern,repl,string,count=0,flags=0)\n"
   ]
  },
  {
   "cell_type": "code",
   "execution_count": 27,
   "metadata": {},
   "outputs": [
    {
     "name": "stdout",
     "output_type": "stream",
     "text": [
      "Username: dafda amroeid\n"
     ]
    }
   ],
   "source": [
    "url =input(\"URL: \").strip()\n",
    "\n",
    "username=re.sub(\"https://twitter.com/\",\"\",url)\n",
    "print(f\"Username: {username}\")\n"
   ]
  },
  {
   "cell_type": "code",
   "execution_count": null,
   "metadata": {},
   "outputs": [],
   "source": [
    "url =input(\"URL: \").strip()\n",
    "\n",
    "username=re.sub(r\"^(https?://)?(www\\.)?twitter\\.com/\",\"\",url) # if we input  https://www.google.com/ it will pass but we don't actually to pass it\n",
    "print(f\"Username: {username}\")\n"
   ]
  },
  {
   "cell_type": "code",
   "execution_count": 38,
   "metadata": {},
   "outputs": [
    {
     "name": "stdout",
     "output_type": "stream",
     "text": [
      "Username: ('www.', 'amro')\n"
     ]
    }
   ],
   "source": [
    "url =input(\"URL: \").strip()\n",
    "matches=re.search(r\"^https?://(www\\.)?twitter\\.com/(.+)$\",url,re.IGNORECASE)\n",
    "if matches:\n",
    "    print(f\"Username: {matches.group(2)}\" )\n"
   ]
  },
  {
   "cell_type": "code",
   "execution_count": 40,
   "metadata": {},
   "outputs": [
    {
     "name": "stdout",
     "output_type": "stream",
     "text": [
      "Username: amro eid\n"
     ]
    }
   ],
   "source": [
    "import re\n",
    "\n",
    "url = input(\"URL: \").strip()\n",
    "\n",
    "if matches := re.search(r\"^https?://(www\\.)?twitter\\.com/(.+)$\", url, re.IGNORECASE):\n",
    "    print(f\"Username: {matches.group(2)}\")\n"
   ]
  },
  {
   "cell_type": "code",
   "execution_count": 41,
   "metadata": {},
   "outputs": [
    {
     "name": "stdout",
     "output_type": "stream",
     "text": [
      "Username: amro eid\n"
     ]
    }
   ],
   "source": [
    "import re\n",
    "\n",
    "url = input(\"URL: \").strip()\n",
    "\n",
    "if matches := re.search(r\"^https?://(?:www\\.)?twitter\\.com/(.+)$\", url, re.IGNORECASE):\n",
    "    print(f\"Username: {matches.group(1)}\")\n"
   ]
  },
  {
   "cell_type": "code",
   "execution_count": null,
   "metadata": {},
   "outputs": [],
   "source": [
    "import re\n",
    "\n",
    "url = input(\"URL: \").strip()\n",
    "\n",
    "if matches := re.search(r\"^https?://(?:www\\.)?twitter\\.com/([a-z0-9_]+)$\", url, re.IGNORECASE):\n",
    "    print(f\"Username: {matches.group(1)}\")\n"
   ]
  },
  {
   "cell_type": "markdown",
   "metadata": {},
   "source": [
    "- re.split(patten,string,maxsplit=0,flags=0)\n",
    "- re.findall(pattern,string,flags)\n"
   ]
  }
 ],
 "metadata": {
  "kernelspec": {
   "display_name": "Python 3",
   "language": "python",
   "name": "python3"
  },
  "language_info": {
   "codemirror_mode": {
    "name": "ipython",
    "version": 3
   },
   "file_extension": ".py",
   "mimetype": "text/x-python",
   "name": "python",
   "nbconvert_exporter": "python",
   "pygments_lexer": "ipython3",
   "version": "3.11.2"
  }
 },
 "nbformat": 4,
 "nbformat_minor": 2
}
