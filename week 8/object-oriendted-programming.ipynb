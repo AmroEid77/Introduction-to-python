{
 "cells": [
  {
   "cell_type": "markdown",
   "metadata": {},
   "source": [
    "# Tuples (immutable)\n",
    "\n",
    "- immutable mean we can't modify the value of the data structure or variable\n"
   ]
  },
  {
   "cell_type": "code",
   "execution_count": null,
   "metadata": {},
   "outputs": [],
   "source": [
    "def main():\n",
    "    name = get_name()\n",
    "    house = get_house()\n",
    "    print(f\"{name} from {house}\")\n",
    "\n",
    "def get_name():\n",
    "    return input(\"Name: \").strip()\n",
    "\n",
    "def get_house():\n",
    "    return input(\"House: \").strip()\n",
    "\n",
    "if __name__ == \"__main__\":\n",
    "    main()"
   ]
  },
  {
   "cell_type": "code",
   "execution_count": null,
   "metadata": {},
   "outputs": [],
   "source": [
    "def main():\n",
    "    name,house = get_student()\n",
    "    \n",
    "    print(f\"{name} from {house}\")\n",
    "\n",
    "def get_student():\n",
    "    name=input(\"Name: \").strip()\n",
    "    house=input(\"House: \").strip()\n",
    "    return (name, house) # we don't return here two values we actually return one tuple (name,house) =one value\n",
    "\n",
    "if __name__ == \"__main__\":\n",
    "    main()"
   ]
  },
  {
   "cell_type": "code",
   "execution_count": null,
   "metadata": {},
   "outputs": [],
   "source": [
    "def main():\n",
    "    student = get_student()\n",
    "    #student[0]=\"amro\" # this will lead to error \n",
    "    print(f\"{student[0]} from {student[1]}\")\n",
    "\n",
    "def get_student():\n",
    "    name=input(\"Name: \").strip()\n",
    "    house=input(\"House: \").strip()\n",
    "    return (name, house) # we don't return here two values we actually return one tuple (name,house) =one value\n",
    "    # if we change the return value [name,house] we can then change because list is mutable (allow modify the values)\n",
    "\n",
    "if __name__ == \"__main__\":\n",
    "    main()"
   ]
  },
  {
   "cell_type": "code",
   "execution_count": null,
   "metadata": {},
   "outputs": [],
   "source": [
    "def main():\n",
    "    student = get_student()\n",
    "    #student[0]=\"amro\" # this will lead to error if the object or the variable is immutable \n",
    "    print(f\"{student['name']} from {student['house']}\")\n",
    "\n",
    "def get_student():\n",
    "    # student={}\n",
    "    # student[\"name\"]=input(\"Name: \").strip()\n",
    "    # student[\"house\"]=input(\"House: \").strip()\n",
    "    name=input(\"Name: \").strip()\n",
    "    house=input(\"House: \").strip()\n",
    "    return {\"name\":name, \"house\": house} # dict is mutable (allow modify the values)\n",
    "\n",
    "if __name__ == \"__main__\":\n",
    "    main()"
   ]
  },
  {
   "cell_type": "markdown",
   "metadata": {},
   "source": [
    "# Classes and Objects\n"
   ]
  },
  {
   "cell_type": "code",
   "execution_count": null,
   "metadata": {},
   "outputs": [],
   "source": [
    "class Student:\n",
    "    ...\n",
    "\n",
    "def main():\n",
    "    student = get_student()\n",
    "    print(f\"{student.name} from {student.house}\")\n",
    "\n",
    "def get_student():\n",
    "    student=Student() # here we are creating object (instance of Student)\n",
    "    student.name=input(\"Name: \").strip() # student.attribute or (instance variables)\n",
    "    student.house=input(\"House: \").strip()\n",
    "    return student\n",
    "\n",
    "if __name__ == \"__main__\":\n",
    "    main()"
   ]
  },
  {
   "cell_type": "code",
   "execution_count": null,
   "metadata": {},
   "outputs": [],
   "source": [
    "class Student:\n",
    "    def __init__(self, name, house):\n",
    "        self.name = name\n",
    "        self.house = house\n",
    "\n",
    "def main():\n",
    "    student = get_student()\n",
    "    print(f\"{student.name} from {student.house}\")\n",
    "\n",
    "def get_student():\n",
    "    name=input(\"Name: \").strip()\n",
    "    house=input(\"House: \").strip()\n",
    "    student=Student(name, house)\n",
    "    return student\n",
    "\n",
    "if __name__ == \"__main__\":\n",
    "    main()"
   ]
  },
  {
   "cell_type": "code",
   "execution_count": null,
   "metadata": {},
   "outputs": [],
   "source": [
    "import sys\n",
    "\n",
    "class Student:\n",
    "    def __init__(self, name, house): #we can init default value\n",
    "        if not name:\n",
    "            # sys.exit('Missing name')\n",
    "            raise ValueError(\"Missing name\")\n",
    "        if house not in [\"Gryffindor\",\"Hufflepuff\" , \"Ravenclaw\",\"Slytherin\"]:\n",
    "            raise ValueError(\"Invalid house\")\n",
    "        self.name = name\n",
    "        self.house = house\n",
    "\n",
    "def main():\n",
    "    student = get_student()\n",
    "    print(f\"{student.name} from {student.house}\")\n",
    "    print(student)\n",
    "\n",
    "def get_student():\n",
    "    name=input(\"Name: \").strip()\n",
    "    house=input(\"House: \").strip()\n",
    "    return Student(name, house)\n",
    "\n",
    "if __name__ == \"__main__\":\n",
    "    main()"
   ]
  },
  {
   "cell_type": "markdown",
   "metadata": {},
   "source": [
    "# \\_\\_str\\_\\_\n",
    "it's a special method that, if you define it inside of your class, python will just automatically call this function for you any time some other function wants to see your object as a string"
   ]
  },
  {
   "cell_type": "code",
   "execution_count": null,
   "metadata": {},
   "outputs": [],
   "source": [
    "import sys\n",
    "\n",
    "class Student:\n",
    "    def __init__(self, name, house,patronus): #we can init default value\n",
    "        if not name:\n",
    "            # sys.exit('Missing name')\n",
    "            raise ValueError(\"Missing name\")\n",
    "        if house not in [\"Gryffindor\",\"Hufflepuff\" , \"Ravenclaw\",\"Slytherin\"]:\n",
    "            raise ValueError(\"Invalid house\")\n",
    "        self.name = name\n",
    "        self.house = house\n",
    "        self.patronus = patronus\n",
    "    def __str__(self):\n",
    "        # return \"a student\"\n",
    "        return f\"{self.name} from {self.house}\"\n",
    "    def charm (self):\n",
    "        match self.patronus:\n",
    "            case \"Stag\":\n",
    "                return \"🐍\"\n",
    "            case \"Otter\":\n",
    "                return \"🐔\"\n",
    "            case \"Jack Russell terrier\":\n",
    "                return \"🐯\"\n",
    "            case _ :\n",
    "                return \"☘️\"\n",
    "\n",
    "def main():\n",
    "    student = get_student()\n",
    "    print(f\"Expecto Patronum !\")\n",
    "    print(student.charm())\n",
    "\n",
    "def get_student():\n",
    "    name=input(\"Name: \").strip()\n",
    "    house=input(\"House: \").strip()\n",
    "    patronus=input(\"Patronus: \").strip()\n",
    "    return Student(name, house,patronus)\n",
    "\n",
    "if __name__ == \"__main__\":\n",
    "    main()"
   ]
  },
  {
   "cell_type": "code",
   "execution_count": null,
   "metadata": {},
   "outputs": [],
   "source": [
    "import sys\n",
    "\n",
    "class Student:\n",
    "    def __init__(self, name, house): #we can init default value\n",
    "        if not name:\n",
    "            # sys.exit('Missing name')\n",
    "            raise ValueError(\"Missing name\")\n",
    "        if house not in [\"Gryffindor\",\"Hufflepuff\" , \"Ravenclaw\",\"Slytherin\"]:\n",
    "            raise ValueError(\"Invalid house\")\n",
    "        self.name = name\n",
    "        self.house = house\n",
    "        \n",
    "    def __str__(self):\n",
    "        # return \"a student\"\n",
    "        return f\"{self.name} from {self.house}\"\n",
    "\n",
    "def main():\n",
    "    student = get_student()\n",
    "    # student.name=\"Student\" # we can still change it after initialization\n",
    "    print(student)\n",
    "\n",
    "def get_student():\n",
    "    name=input(\"Name: \").strip()\n",
    "    house=input(\"House: \").strip()\n",
    "    \n",
    "    return Student(name, house)\n",
    "\n",
    "if __name__ == \"__main__\":\n",
    "    main()"
   ]
  },
  {
   "cell_type": "markdown",
   "metadata": {},
   "source": [
    "# properties\n",
    "# @property\n",
    "it's just an attribute have more defense mechanisms put into place\n",
    "\n",
    "# decorators\n",
    "which are functions that modify the behavior of other functions"
   ]
  },
  {
   "cell_type": "markdown",
   "metadata": {},
   "source": [
    "\\_attrbuite it's a private attribute but python developer want to tell you plz don't touch it and you can modify it 😂😂😂"
   ]
  },
  {
   "cell_type": "code",
   "execution_count": 5,
   "metadata": {},
   "outputs": [
    {
     "name": "stdout",
     "output_type": "stream",
     "text": [
      "Harry from Gryffindor\n"
     ]
    }
   ],
   "source": [
    "class Student:\n",
    "    def __init__(self, name, house):\n",
    "        self.name = name\n",
    "        self.house = house  # This will call the setter method\n",
    "\n",
    "    def __str__(self):\n",
    "        return f\"{self.name} from {self.house}\"\n",
    "\n",
    "    @property\n",
    "    def name(self):\n",
    "        return self._name\n",
    "    \n",
    "    @name.setter\n",
    "    def name(self, name):\n",
    "        if not name:\n",
    "            raise ValueError(\"Missing name\")\n",
    "        self._name = name  # Use the _name attribute to avoid recursion\n",
    "\n",
    "    # Getter \n",
    "    @property\n",
    "    def house(self):\n",
    "        return self._house\n",
    "\n",
    "    # Setter\n",
    "    @house.setter\n",
    "    def house(self, house):\n",
    "        if house not in [\"Gryffindor\", \"Hufflepuff\", \"Ravenclaw\", \"Slytherin\"]:\n",
    "            raise ValueError(\"Invalid house\")\n",
    "        self._house = house  # Use the _house attribute to avoid recursion\n",
    "\n",
    "def main():\n",
    "    student = get_student()\n",
    "    # student.house =\"Palestine\" # this will lead to ValueError\n",
    "    # student._house =\"Palestine\" # this will work 😂😂\n",
    "    print(student)\n",
    "\n",
    "def get_student():\n",
    "    name = input(\"Name: \").strip()\n",
    "    house = input(\"House: \").strip()\n",
    "    return Student(name, house)\n",
    "\n",
    "if __name__ == \"__main__\":\n",
    "    main()\n"
   ]
  },
  {
   "cell_type": "markdown",
   "metadata": {},
   "source": [
    "# Types and Classes\n",
    "* class int(x,base=10)\n",
    "* class str(object='')\n",
    "    * str.lower()\n",
    "    * str.strip([chars])\n",
    "* list\n",
    "    * class list([iterable])\n",
    "        * list.append(x)\n",
    "        * list.extend(iterable)\n",
    "        * list.pop([index])\n",
    "        * list.remove(x)\n",
    "        * list.index(x[, start[, end]])\n",
    "        * list.count(x)\n",
    "        * list.sort([key[, reverse]])\n",
    "        * list.reverse()\n",
    "        * list.copy()\n",
    "* dict\n",
    "    * class dict(mapping)\n",
    "        * dict.keys()\n",
    "        * dict.values()\n",
    "        * dict.items()\n",
    "        * dict.get(key[, default])\n",
    "        * dict.pop(key[, default])\n",
    "        * dict.update(other)\n",
    "        * dict.clear()"
   ]
  },
  {
   "cell_type": "code",
   "execution_count": 10,
   "metadata": {},
   "outputs": [
    {
     "name": "stdout",
     "output_type": "stream",
     "text": [
      "<class 'int'>\n",
      "<class 'str'>\n",
      "<class 'list'> <class 'list'>\n",
      "<class 'dict'> <class 'dict'>\n"
     ]
    }
   ],
   "source": [
    "print(type(50))\n",
    "print(type(\"amro\"))\n",
    "print(type([]) , type(list()))\n",
    "print(type({}) , type(dict()))"
   ]
  },
  {
   "cell_type": "markdown",
   "metadata": {},
   "source": [
    "# class methods\n",
    "\n",
    "@classmethod"
   ]
  },
  {
   "cell_type": "code",
   "execution_count": 22,
   "metadata": {},
   "outputs": [
    {
     "name": "stdout",
     "output_type": "stream",
     "text": [
      "Harry is in Ravenclaw\n"
     ]
    }
   ],
   "source": [
    "import random\n",
    "class Hat:\n",
    "    def __init__(self):\n",
    "        self.houses=[\"Gryffindor\",\"Hufflepuff\",\"Ravenclaw\",\"Slytherin\"]\n",
    "    def sort(self,name):\n",
    "        \n",
    "        print(f\"{name} is in {random.choice(self.houses)}\")\n",
    "\n",
    "\n",
    "hat=Hat()\n",
    "hat.sort(\"Harry\")"
   ]
  },
  {
   "cell_type": "code",
   "execution_count": 24,
   "metadata": {},
   "outputs": [
    {
     "name": "stdout",
     "output_type": "stream",
     "text": [
      "Harry is in Ravenclaw\n"
     ]
    }
   ],
   "source": [
    "import random\n",
    "class Hat:\n",
    "    houses=[\"Gryffindor\",\"Hufflepuff\",\"Ravenclaw\",\"Slytherin\"] # class variables\n",
    "\n",
    "    @classmethod\n",
    "    def sort(cls,name):# I change self to cls because now it's not an instance variable accessible by self.houses it's now class variable\n",
    "        \n",
    "        print(f\"{name} is in {random.choice(cls.houses)}\")\n",
    "\n",
    "\n",
    "#hat=Hat()\n",
    "#hat.sort(\"Harry\")\n",
    "Hat.sort(\"Harry\")"
   ]
  },
  {
   "cell_type": "code",
   "execution_count": 27,
   "metadata": {},
   "outputs": [
    {
     "name": "stdout",
     "output_type": "stream",
     "text": [
      "das from sad\n"
     ]
    }
   ],
   "source": [
    "class Student:\n",
    "    def __init__(self, name, house):\n",
    "        self.name = name\n",
    "        self.house = house  \n",
    "\n",
    "    def __str__(self):\n",
    "        return f\"{self.name} from {self.house}\"\n",
    "\n",
    "    @classmethod\n",
    "    def get(cls):\n",
    "        name =input(\"Name: \")\n",
    "        house = input(\"House: \")\n",
    "        return cls(name, house) # I can here instantiate the student object by cls (create an object from the current class)\n",
    "    \n",
    "\n",
    "def main():\n",
    "    student = Student.get()\n",
    "    print(student)\n",
    "\n",
    "\n",
    "\n",
    "if __name__ == \"__main__\":\n",
    "    main()\n"
   ]
  },
  {
   "cell_type": "markdown",
   "metadata": {},
   "source": [
    "# Inheritance"
   ]
  },
  {
   "cell_type": "code",
   "execution_count": 28,
   "metadata": {},
   "outputs": [],
   "source": [
    "class Wizard:\n",
    "    def __init__(self, name):\n",
    "        if not name:\n",
    "            raise ValueError(\"Missing name\")\n",
    "        self.name = name\n",
    "\n",
    "\n",
    "class Student(Wizard): # Student is Wizard \n",
    "    def __init__(self, name, house):\n",
    "        super().__init__(name) # we call the the super or parent class init and pass the name\n",
    "        self.house = house\n",
    "    \n",
    "class Professor:# Professor is Wizard \n",
    "    def __init__(self, name,subject):\n",
    "        super().__init__(name)\n",
    "        self.subject = subject\n",
    "wizard = Wizard(\"Albus\")\n",
    "student = Student(\"Harry\",\"Gryffindor\")\n",
    "professor = Professor(\"Severus\",\"Defense Against the Dark Arts\")"
   ]
  },
  {
   "cell_type": "markdown",
   "metadata": {},
   "source": [
    "# operator overloading"
   ]
  },
  {
   "cell_type": "code",
   "execution_count": 33,
   "metadata": {},
   "outputs": [
    {
     "name": "stdout",
     "output_type": "stream",
     "text": [
      "100 Galleons, 50 Sickles, 25 Knuts\n",
      "25 Galleons, 50 Sickles, 100 Knuts\n",
      "125 Galleons, 100 Sickles, 125 Knuts\n"
     ]
    }
   ],
   "source": [
    "class Vault:\n",
    "    def __init__(self,galleons=0, sickles =0, knuts=0):\n",
    "        self.galleons = galleons\n",
    "        self.sickles = sickles\n",
    "        self.knuts = knuts\n",
    "\n",
    "    def __str__(self):\n",
    "        return f\"{self.galleons} Galleons, {self.sickles} Sickles, {self.knuts} Knuts\"\n",
    "potter =Vault(100,50,25)\n",
    "print(potter)\n",
    "\n",
    "weasley = Vault(25,50,100)\n",
    "print(weasley)\n",
    "\n",
    "galleons = potter.galleons + weasley.galleons\n",
    "\n",
    "sickles = potter.sickles + weasley.sickles\n",
    "\n",
    "knuts = potter.knuts + weasley.knuts\n",
    "\n",
    "total = Vault(galleons,sickles,knuts)\n",
    "\n",
    "print(total)"
   ]
  },
  {
   "cell_type": "markdown",
   "metadata": {},
   "source": [
    "object.\\_\\_add\\_\\_(self,other)"
   ]
  },
  {
   "cell_type": "code",
   "execution_count": 1,
   "metadata": {},
   "outputs": [
    {
     "name": "stdout",
     "output_type": "stream",
     "text": [
      "100 Galleons, 50 Sickles, 25 Knuts\n",
      "25 Galleons, 50 Sickles, 100 Knuts\n",
      "125 Galleons, 100 Sickles, 125 Knuts\n"
     ]
    }
   ],
   "source": [
    "class Vault:\n",
    "    def __init__(self,galleons=0, sickles =0, knuts=0):\n",
    "        self.galleons = galleons\n",
    "        self.sickles = sickles\n",
    "        self.knuts = knuts\n",
    "\n",
    "    def __str__(self):\n",
    "        return f\"{self.galleons} Galleons, {self.sickles} Sickles, {self.knuts} Knuts\"\n",
    "    \n",
    "    def __add__(self,other):\n",
    "        galleons = self.galleons + other.galleons # potter + weasley galleons\n",
    "        sickles = self.sickles + other.sickles\n",
    "        knuts = self.knuts + other.knuts\n",
    "        return Vault(galleons,sickles,knuts)\n",
    "potter =Vault(100,50,25)\n",
    "print(potter)\n",
    "\n",
    "weasley = Vault(25,50,100)\n",
    "print(weasley)\n",
    "\n",
    "\n",
    "\n",
    "total = potter + weasley\n",
    "\n",
    "print(total)"
   ]
  }
 ],
 "metadata": {
  "kernelspec": {
   "display_name": "Python 3",
   "language": "python",
   "name": "python3"
  },
  "language_info": {
   "codemirror_mode": {
    "name": "ipython",
    "version": 3
   },
   "file_extension": ".py",
   "mimetype": "text/x-python",
   "name": "python",
   "nbconvert_exporter": "python",
   "pygments_lexer": "ipython3",
   "version": "3.11.2"
  }
 },
 "nbformat": 4,
 "nbformat_minor": 2
}
